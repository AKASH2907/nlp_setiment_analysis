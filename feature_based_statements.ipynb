{
 "cells": [
  {
   "cell_type": "code",
   "execution_count": 1,
   "metadata": {},
   "outputs": [
    {
     "data": {
      "application/javascript": [
       "IPython.notebook.set_autosave_interval(300000)"
      ]
     },
     "metadata": {},
     "output_type": "display_data"
    },
    {
     "name": "stdout",
     "output_type": "stream",
     "text": [
      "Autosaving every 300 seconds\n"
     ]
    }
   ],
   "source": [
    "import numpy as np\n",
    "import matplotlib.pyplot as plt\n",
    "%matplotlib inline\n",
    "import pandas as pd\n",
    "import seaborn as sns\n",
    "import nltk\n",
    "import nltk.corpus\n",
    "\n",
    "# NLTK Libraries\n",
    "from nltk.corpus import stopwords\n",
    "from nltk.stem.porter import PorterStemmer\n",
    "from nltk.stem import SnowballStemmer\n",
    "from nltk.tokenize import word_tokenize\n",
    "\n",
    "# Algorithms\n",
    "from sklearn import linear_model\n",
    "from sklearn.linear_model import LogisticRegression\n",
    "from sklearn.ensemble import RandomForestClassifier\n",
    "from sklearn.linear_model import Perceptron\n",
    "from sklearn.linear_model import SGDClassifier\n",
    "from sklearn.tree import DecisionTreeClassifier\n",
    "from sklearn.neighbors import KNeighborsClassifier\n",
    "from sklearn.svm import SVC, LinearSVC\n",
    "from sklearn.naive_bayes import GaussianNB, MultinomialNB\n",
    "from sklearn.base import BaseEstimator, TransformerMixin\n",
    "\n",
    "\n",
    "from sklearn.feature_extraction.text import CountVectorizer\n",
    "from collections import Counter\n",
    "from sklearn.feature_extraction.text import TfidfTransformer, TfidfVectorizer\n",
    "from sklearn.metrics import accuracy_score, f1_score, confusion_matrix\n",
    "\n",
    "%autosave 300"
   ]
  },
  {
   "cell_type": "code",
   "execution_count": 2,
   "metadata": {},
   "outputs": [
    {
     "name": "stdout",
     "output_type": "stream",
     "text": [
      "(10240, 12)\n",
      "(1284, 12)\n",
      "(1267, 12)\n"
     ]
    },
    {
     "data": {
      "text/html": [
       "<div>\n",
       "<style scoped>\n",
       "    .dataframe tbody tr th:only-of-type {\n",
       "        vertical-align: middle;\n",
       "    }\n",
       "\n",
       "    .dataframe tbody tr th {\n",
       "        vertical-align: top;\n",
       "    }\n",
       "\n",
       "    .dataframe thead th {\n",
       "        text-align: right;\n",
       "    }\n",
       "</style>\n",
       "<table border=\"1\" class=\"dataframe\">\n",
       "  <thead>\n",
       "    <tr style=\"text-align: right;\">\n",
       "      <th></th>\n",
       "      <th>label</th>\n",
       "      <th>statement</th>\n",
       "      <th>subject</th>\n",
       "      <th>speaker</th>\n",
       "      <th>party</th>\n",
       "      <th>bt</th>\n",
       "      <th>f</th>\n",
       "      <th>ht</th>\n",
       "      <th>mt</th>\n",
       "      <th>pof</th>\n",
       "      <th>context</th>\n",
       "      <th>justification</th>\n",
       "    </tr>\n",
       "    <tr>\n",
       "      <th>0</th>\n",
       "      <th></th>\n",
       "      <th></th>\n",
       "      <th></th>\n",
       "      <th></th>\n",
       "      <th></th>\n",
       "      <th></th>\n",
       "      <th></th>\n",
       "      <th></th>\n",
       "      <th></th>\n",
       "      <th></th>\n",
       "      <th></th>\n",
       "      <th></th>\n",
       "    </tr>\n",
       "  </thead>\n",
       "  <tbody>\n",
       "    <tr>\n",
       "      <th>0</th>\n",
       "      <td>false</td>\n",
       "      <td>Says the Annies List political group supports ...</td>\n",
       "      <td>abortion</td>\n",
       "      <td>dwayne-bohac</td>\n",
       "      <td>republican</td>\n",
       "      <td>0.0</td>\n",
       "      <td>1.0</td>\n",
       "      <td>0.0</td>\n",
       "      <td>0.0</td>\n",
       "      <td>0.0</td>\n",
       "      <td>a mailer</td>\n",
       "      <td>That's a premise that he fails to back up. Ann...</td>\n",
       "    </tr>\n",
       "    <tr>\n",
       "      <th>1</th>\n",
       "      <td>half-true</td>\n",
       "      <td>When did the decline of coal start? It started...</td>\n",
       "      <td>energy,history,job-accomplishments</td>\n",
       "      <td>scott-surovell</td>\n",
       "      <td>democrat</td>\n",
       "      <td>0.0</td>\n",
       "      <td>0.0</td>\n",
       "      <td>1.0</td>\n",
       "      <td>1.0</td>\n",
       "      <td>0.0</td>\n",
       "      <td>a floor speech.</td>\n",
       "      <td>Surovell said the decline of coal \"started whe...</td>\n",
       "    </tr>\n",
       "    <tr>\n",
       "      <th>2</th>\n",
       "      <td>mostly-true</td>\n",
       "      <td>Hillary Clinton agrees with John McCain \"by vo...</td>\n",
       "      <td>foreign-policy</td>\n",
       "      <td>barack-obama</td>\n",
       "      <td>democrat</td>\n",
       "      <td>70.0</td>\n",
       "      <td>71.0</td>\n",
       "      <td>160.0</td>\n",
       "      <td>163.0</td>\n",
       "      <td>9.0</td>\n",
       "      <td>Denver</td>\n",
       "      <td>Obama said he would have voted against the ame...</td>\n",
       "    </tr>\n",
       "    <tr>\n",
       "      <th>3</th>\n",
       "      <td>false</td>\n",
       "      <td>Health care reform legislation is likely to ma...</td>\n",
       "      <td>health-care</td>\n",
       "      <td>blog-posting</td>\n",
       "      <td>none</td>\n",
       "      <td>7.0</td>\n",
       "      <td>19.0</td>\n",
       "      <td>3.0</td>\n",
       "      <td>5.0</td>\n",
       "      <td>44.0</td>\n",
       "      <td>a news release</td>\n",
       "      <td>The release may have a point that Mikulskis co...</td>\n",
       "    </tr>\n",
       "    <tr>\n",
       "      <th>4</th>\n",
       "      <td>half-true</td>\n",
       "      <td>The economic turnaround started at the end of ...</td>\n",
       "      <td>economy,jobs</td>\n",
       "      <td>charlie-crist</td>\n",
       "      <td>democrat</td>\n",
       "      <td>15.0</td>\n",
       "      <td>9.0</td>\n",
       "      <td>20.0</td>\n",
       "      <td>19.0</td>\n",
       "      <td>2.0</td>\n",
       "      <td>an interview on CNN</td>\n",
       "      <td>Crist said that the economic \"turnaround start...</td>\n",
       "    </tr>\n",
       "  </tbody>\n",
       "</table>\n",
       "</div>"
      ],
      "text/plain": [
       "         label                                          statement  \\\n",
       "0                                                                   \n",
       "0        false  Says the Annies List political group supports ...   \n",
       "1    half-true  When did the decline of coal start? It started...   \n",
       "2  mostly-true  Hillary Clinton agrees with John McCain \"by vo...   \n",
       "3        false  Health care reform legislation is likely to ma...   \n",
       "4    half-true  The economic turnaround started at the end of ...   \n",
       "\n",
       "                              subject         speaker       party    bt     f  \\\n",
       "0                                                                               \n",
       "0                            abortion    dwayne-bohac  republican   0.0   1.0   \n",
       "1  energy,history,job-accomplishments  scott-surovell    democrat   0.0   0.0   \n",
       "2                      foreign-policy    barack-obama    democrat  70.0  71.0   \n",
       "3                         health-care    blog-posting        none   7.0  19.0   \n",
       "4                        economy,jobs   charlie-crist    democrat  15.0   9.0   \n",
       "\n",
       "      ht     mt   pof              context  \\\n",
       "0                                            \n",
       "0    0.0    0.0   0.0             a mailer   \n",
       "1    1.0    1.0   0.0      a floor speech.   \n",
       "2  160.0  163.0   9.0               Denver   \n",
       "3    3.0    5.0  44.0       a news release   \n",
       "4   20.0   19.0   2.0  an interview on CNN   \n",
       "\n",
       "                                       justification  \n",
       "0                                                     \n",
       "0  That's a premise that he fails to back up. Ann...  \n",
       "1  Surovell said the decline of coal \"started whe...  \n",
       "2  Obama said he would have voted against the ame...  \n",
       "3  The release may have a point that Mikulskis co...  \n",
       "4  Crist said that the economic \"turnaround start...  "
      ]
     },
     "execution_count": 2,
     "metadata": {},
     "output_type": "execute_result"
    }
   ],
   "source": [
    "datapath = './dataset/'\n",
    "\n",
    "\n",
    "train = pd.read_csv(datapath + 'train.tsv', header=None, index_col=0, delimiter='\\t')\n",
    "val = pd.read_csv(datapath + 'val.tsv', header=None, index_col=0, delimiter='\\t')\n",
    "test = pd.read_csv(datapath + 'test.tsv', header=None, index_col=0, delimiter='\\t')\n",
    "\n",
    "train.head()\n",
    "\n",
    "train.columns = ['ID', 'label', 'statement', 'subject', 'speaker', 'job title', \n",
    "                 'state info', 'party', 'bt', 'f', 'ht', 'mt', 'pof', 'context', \n",
    "                 'justification']\n",
    "\n",
    "val.columns = ['ID', 'label', 'statement', 'subject', 'speaker', 'job title', \n",
    "                 'state info', 'party', 'bt', 'f', 'ht', 'mt', 'pof', 'context', \n",
    "                 'justification']\n",
    "\n",
    "test.columns = ['ID', 'label', 'statement', 'subject', 'speaker', 'job title', \n",
    "                 'state info', 'party', 'bt', 'f', 'ht', 'mt', 'pof', 'context', \n",
    "                 'justification']\n",
    "\n",
    "\n",
    "train.drop(['ID','job title', 'state info'], axis=1, inplace=True)\n",
    "val.drop(['ID','job title', 'state info'], axis=1, inplace=True)\n",
    "test.drop(['ID','job title', 'state info'], axis=1, inplace=True)\n",
    "\n",
    "train['justification'] = train['justification'].fillna(\"no_text\")\n",
    "val['justification'] = val['justification'].fillna(\"no_text\")\n",
    "test['justification'] = test['justification'].fillna(\"no_text\")\n",
    "\n",
    "print(train.shape)\n",
    "print(val.shape)\n",
    "print(test.shape)\n",
    "train.head()"
   ]
  },
  {
   "cell_type": "code",
   "execution_count": 3,
   "metadata": {},
   "outputs": [
    {
     "data": {
      "text/html": [
       "<div>\n",
       "<style scoped>\n",
       "    .dataframe tbody tr th:only-of-type {\n",
       "        vertical-align: middle;\n",
       "    }\n",
       "\n",
       "    .dataframe tbody tr th {\n",
       "        vertical-align: top;\n",
       "    }\n",
       "\n",
       "    .dataframe thead th {\n",
       "        text-align: right;\n",
       "    }\n",
       "</style>\n",
       "<table border=\"1\" class=\"dataframe\">\n",
       "  <thead>\n",
       "    <tr style=\"text-align: right;\">\n",
       "      <th></th>\n",
       "      <th>label</th>\n",
       "      <th>statement</th>\n",
       "      <th>subject</th>\n",
       "      <th>speaker</th>\n",
       "      <th>party</th>\n",
       "      <th>bt</th>\n",
       "      <th>f</th>\n",
       "      <th>ht</th>\n",
       "      <th>mt</th>\n",
       "      <th>pof</th>\n",
       "      <th>context</th>\n",
       "      <th>justification</th>\n",
       "    </tr>\n",
       "    <tr>\n",
       "      <th>0</th>\n",
       "      <th></th>\n",
       "      <th></th>\n",
       "      <th></th>\n",
       "      <th></th>\n",
       "      <th></th>\n",
       "      <th></th>\n",
       "      <th></th>\n",
       "      <th></th>\n",
       "      <th></th>\n",
       "      <th></th>\n",
       "      <th></th>\n",
       "      <th></th>\n",
       "    </tr>\n",
       "  </thead>\n",
       "  <tbody>\n",
       "    <tr>\n",
       "      <th>2142</th>\n",
       "      <td>false</td>\n",
       "      <td>The fact is that although we have had a presid...</td>\n",
       "      <td>NaN</td>\n",
       "      <td>NaN</td>\n",
       "      <td>NaN</td>\n",
       "      <td>NaN</td>\n",
       "      <td>NaN</td>\n",
       "      <td>NaN</td>\n",
       "      <td>NaN</td>\n",
       "      <td>NaN</td>\n",
       "      <td>NaN</td>\n",
       "      <td>Perry says Paine wrote that the duty of a patr...</td>\n",
       "    </tr>\n",
       "    <tr>\n",
       "      <th>9375</th>\n",
       "      <td>false</td>\n",
       "      <td>Joe, I keep hearing you every morning talking ...</td>\n",
       "      <td>NaN</td>\n",
       "      <td>NaN</td>\n",
       "      <td>NaN</td>\n",
       "      <td>NaN</td>\n",
       "      <td>NaN</td>\n",
       "      <td>NaN</td>\n",
       "      <td>NaN</td>\n",
       "      <td>NaN</td>\n",
       "      <td>NaN</td>\n",
       "      <td>Bill Clinton said, \"As secretary of state, (Hi...</td>\n",
       "    </tr>\n",
       "  </tbody>\n",
       "</table>\n",
       "</div>"
      ],
      "text/plain": [
       "      label                                          statement subject  \\\n",
       "0                                                                        \n",
       "2142  false  The fact is that although we have had a presid...     NaN   \n",
       "9375  false  Joe, I keep hearing you every morning talking ...     NaN   \n",
       "\n",
       "     speaker party  bt   f  ht  mt  pof context  \\\n",
       "0                                                 \n",
       "2142     NaN   NaN NaN NaN NaN NaN  NaN     NaN   \n",
       "9375     NaN   NaN NaN NaN NaN NaN  NaN     NaN   \n",
       "\n",
       "                                          justification  \n",
       "0                                                        \n",
       "2142  Perry says Paine wrote that the duty of a patr...  \n",
       "9375  Bill Clinton said, \"As secretary of state, (Hi...  "
      ]
     },
     "execution_count": 3,
     "metadata": {},
     "output_type": "execute_result"
    }
   ],
   "source": [
    "train[train.pof.isnull()]"
   ]
  },
  {
   "cell_type": "code",
   "execution_count": 4,
   "metadata": {},
   "outputs": [],
   "source": [
    "train.drop([2142, 9375], axis=0, inplace=True)"
   ]
  },
  {
   "cell_type": "code",
   "execution_count": 5,
   "metadata": {},
   "outputs": [],
   "source": [
    "int_lists = [\"bt\", \"f\", \"ht\", \"mt\", \"pof\"]\n",
    "\n",
    "for i in int_lists:\n",
    "    train[i] = train[i].astype(int)\n",
    "    val[i] = val[i].astype(int)\n",
    "    test[i] = test[i].astype(int)"
   ]
  },
  {
   "cell_type": "code",
   "execution_count": 8,
   "metadata": {},
   "outputs": [
    {
     "name": "stdout",
     "output_type": "stream",
     "text": [
      "['false' 'half-true' 'mostly-true' 'true' 'barely-true' 'pants-fire']\n",
      "12789 12789\n"
     ]
    }
   ],
   "source": [
    "# bt - Barely True, f - false,  pof- pants on fire -> Considered as false\n",
    "# ht- half true, mt- mostly true, t - true -> Considered as True\n",
    "\n",
    "print(all_data.label.unique())\n",
    "Y_binary = []\n",
    "# all_data.label.unique().tolist()\n",
    "for i in all_data['label']:\n",
    "    if i=='false' or i=='barely-true' or i=='pants-fire':\n",
    "        Y_binary+=[0]\n",
    "    else:\n",
    "        Y_binary+=[1]\n",
    "\n",
    "Y_six = []\n",
    "\n",
    "for i in all_data['label']:\n",
    "    if i =='pants-fire':\n",
    "        Y_six+=[0]\n",
    "    elif i=='false':\n",
    "        Y_six+=[1]\n",
    "    elif i=='barely-true':\n",
    "        Y_six+=[2]\n",
    "    elif i=='half-true':\n",
    "        Y_six+=[3]\n",
    "    elif i=='mostly-true':\n",
    "        Y_six+=[4]\n",
    "    else:\n",
    "        Y_six+=[5]\n",
    "        \n",
    "# train.label.unique()\n",
    "print(len(Y_binary), len(Y_six))"
   ]
  },
  {
   "cell_type": "code",
   "execution_count": 9,
   "metadata": {},
   "outputs": [],
   "source": [
    "labels_dict = {\"pants-fire\":0, \"false\":1, \"barely-true\":2, \"half-true\":3, \"mostly-true\":4, \n",
    "              \"true\":5}\n",
    "train['new_labels'] = train['label'].apply(lambda x: labels_dict[x])\n",
    "val['new_labels'] = val['label'].apply(lambda x: labels_dict[x])\n",
    "test['new_labels'] = test['label'].apply(lambda x: labels_dict[x])"
   ]
  },
  {
   "cell_type": "code",
   "execution_count": 53,
   "metadata": {},
   "outputs": [
    {
     "name": "stdout",
     "output_type": "stream",
     "text": [
      "(12789, 13)\n"
     ]
    }
   ],
   "source": [
    "all_data = pd.concat([train, val, test], ignore_index=False)\n",
    "print(all_data.shape)"
   ]
  },
  {
   "cell_type": "code",
   "execution_count": 54,
   "metadata": {},
   "outputs": [
    {
     "data": {
      "text/html": [
       "<div>\n",
       "<style scoped>\n",
       "    .dataframe tbody tr th:only-of-type {\n",
       "        vertical-align: middle;\n",
       "    }\n",
       "\n",
       "    .dataframe tbody tr th {\n",
       "        vertical-align: top;\n",
       "    }\n",
       "\n",
       "    .dataframe thead th {\n",
       "        text-align: right;\n",
       "    }\n",
       "</style>\n",
       "<table border=\"1\" class=\"dataframe\">\n",
       "  <thead>\n",
       "    <tr style=\"text-align: right;\">\n",
       "      <th></th>\n",
       "      <th>label</th>\n",
       "      <th>statement</th>\n",
       "      <th>subject</th>\n",
       "      <th>speaker</th>\n",
       "      <th>party</th>\n",
       "      <th>bt</th>\n",
       "      <th>f</th>\n",
       "      <th>ht</th>\n",
       "      <th>mt</th>\n",
       "      <th>pof</th>\n",
       "      <th>context</th>\n",
       "      <th>justification</th>\n",
       "      <th>new_labels</th>\n",
       "    </tr>\n",
       "    <tr>\n",
       "      <th>0</th>\n",
       "      <th></th>\n",
       "      <th></th>\n",
       "      <th></th>\n",
       "      <th></th>\n",
       "      <th></th>\n",
       "      <th></th>\n",
       "      <th></th>\n",
       "      <th></th>\n",
       "      <th></th>\n",
       "      <th></th>\n",
       "      <th></th>\n",
       "      <th></th>\n",
       "      <th></th>\n",
       "    </tr>\n",
       "  </thead>\n",
       "  <tbody>\n",
       "    <tr>\n",
       "      <th>0</th>\n",
       "      <td>false</td>\n",
       "      <td>Says the Annies List political group supports ...</td>\n",
       "      <td>abortion</td>\n",
       "      <td>dwayne-bohac</td>\n",
       "      <td>republican</td>\n",
       "      <td>0</td>\n",
       "      <td>1</td>\n",
       "      <td>0</td>\n",
       "      <td>0</td>\n",
       "      <td>0</td>\n",
       "      <td>a mailer</td>\n",
       "      <td>That's a premise that he fails to back up. Ann...</td>\n",
       "      <td>1</td>\n",
       "    </tr>\n",
       "    <tr>\n",
       "      <th>1</th>\n",
       "      <td>half-true</td>\n",
       "      <td>When did the decline of coal start? It started...</td>\n",
       "      <td>energy,history,job-accomplishments</td>\n",
       "      <td>scott-surovell</td>\n",
       "      <td>democrat</td>\n",
       "      <td>0</td>\n",
       "      <td>0</td>\n",
       "      <td>1</td>\n",
       "      <td>1</td>\n",
       "      <td>0</td>\n",
       "      <td>a floor speech.</td>\n",
       "      <td>Surovell said the decline of coal \"started whe...</td>\n",
       "      <td>3</td>\n",
       "    </tr>\n",
       "    <tr>\n",
       "      <th>2</th>\n",
       "      <td>mostly-true</td>\n",
       "      <td>Hillary Clinton agrees with John McCain \"by vo...</td>\n",
       "      <td>foreign-policy</td>\n",
       "      <td>barack-obama</td>\n",
       "      <td>democrat</td>\n",
       "      <td>70</td>\n",
       "      <td>71</td>\n",
       "      <td>160</td>\n",
       "      <td>163</td>\n",
       "      <td>9</td>\n",
       "      <td>Denver</td>\n",
       "      <td>Obama said he would have voted against the ame...</td>\n",
       "      <td>4</td>\n",
       "    </tr>\n",
       "    <tr>\n",
       "      <th>3</th>\n",
       "      <td>false</td>\n",
       "      <td>Health care reform legislation is likely to ma...</td>\n",
       "      <td>health-care</td>\n",
       "      <td>blog-posting</td>\n",
       "      <td>none</td>\n",
       "      <td>7</td>\n",
       "      <td>19</td>\n",
       "      <td>3</td>\n",
       "      <td>5</td>\n",
       "      <td>44</td>\n",
       "      <td>a news release</td>\n",
       "      <td>The release may have a point that Mikulskis co...</td>\n",
       "      <td>1</td>\n",
       "    </tr>\n",
       "    <tr>\n",
       "      <th>4</th>\n",
       "      <td>half-true</td>\n",
       "      <td>The economic turnaround started at the end of ...</td>\n",
       "      <td>economy,jobs</td>\n",
       "      <td>charlie-crist</td>\n",
       "      <td>democrat</td>\n",
       "      <td>15</td>\n",
       "      <td>9</td>\n",
       "      <td>20</td>\n",
       "      <td>19</td>\n",
       "      <td>2</td>\n",
       "      <td>an interview on CNN</td>\n",
       "      <td>Crist said that the economic \"turnaround start...</td>\n",
       "      <td>3</td>\n",
       "    </tr>\n",
       "  </tbody>\n",
       "</table>\n",
       "</div>"
      ],
      "text/plain": [
       "         label                                          statement  \\\n",
       "0                                                                   \n",
       "0        false  Says the Annies List political group supports ...   \n",
       "1    half-true  When did the decline of coal start? It started...   \n",
       "2  mostly-true  Hillary Clinton agrees with John McCain \"by vo...   \n",
       "3        false  Health care reform legislation is likely to ma...   \n",
       "4    half-true  The economic turnaround started at the end of ...   \n",
       "\n",
       "                              subject         speaker       party  bt   f  \\\n",
       "0                                                                           \n",
       "0                            abortion    dwayne-bohac  republican   0   1   \n",
       "1  energy,history,job-accomplishments  scott-surovell    democrat   0   0   \n",
       "2                      foreign-policy    barack-obama    democrat  70  71   \n",
       "3                         health-care    blog-posting        none   7  19   \n",
       "4                        economy,jobs   charlie-crist    democrat  15   9   \n",
       "\n",
       "    ht   mt  pof              context  \\\n",
       "0                                       \n",
       "0    0    0    0             a mailer   \n",
       "1    1    1    0      a floor speech.   \n",
       "2  160  163    9               Denver   \n",
       "3    3    5   44       a news release   \n",
       "4   20   19    2  an interview on CNN   \n",
       "\n",
       "                                       justification  new_labels  \n",
       "0                                                                 \n",
       "0  That's a premise that he fails to back up. Ann...           1  \n",
       "1  Surovell said the decline of coal \"started whe...           3  \n",
       "2  Obama said he would have voted against the ame...           4  \n",
       "3  The release may have a point that Mikulskis co...           1  \n",
       "4  Crist said that the economic \"turnaround start...           3  "
      ]
     },
     "execution_count": 54,
     "metadata": {},
     "output_type": "execute_result"
    }
   ],
   "source": [
    "all_data.head()"
   ]
  },
  {
   "cell_type": "code",
   "execution_count": 10,
   "metadata": {},
   "outputs": [
    {
     "data": {
      "text/plain": [
       "Counter({'false': 2505,\n",
       "         'half-true': 2627,\n",
       "         'mostly-true': 2454,\n",
       "         'true': 2053,\n",
       "         'barely-true': 2103,\n",
       "         'pants-fire': 1047})"
      ]
     },
     "execution_count": 10,
     "metadata": {},
     "output_type": "execute_result"
    }
   ],
   "source": [
    "Counter(all_data['label'])"
   ]
  },
  {
   "cell_type": "code",
   "execution_count": 55,
   "metadata": {},
   "outputs": [
    {
     "name": "stdout",
     "output_type": "stream",
     "text": [
      "<class 'pandas.core.frame.DataFrame'>\n",
      "Int64Index: 10238 entries, 0 to 10239\n",
      "Data columns (total 13 columns):\n",
      "label            10238 non-null object\n",
      "statement        10238 non-null object\n",
      "subject          10238 non-null object\n",
      "speaker          10238 non-null object\n",
      "party            10238 non-null object\n",
      "bt               10238 non-null int64\n",
      "f                10238 non-null int64\n",
      "ht               10238 non-null int64\n",
      "mt               10238 non-null int64\n",
      "pof              10238 non-null int64\n",
      "context          10138 non-null object\n",
      "justification    10238 non-null object\n",
      "new_labels       10238 non-null int64\n",
      "dtypes: int64(6), object(7)\n",
      "memory usage: 1.1+ MB\n"
     ]
    },
    {
     "data": {
      "text/html": [
       "<div>\n",
       "<style scoped>\n",
       "    .dataframe tbody tr th:only-of-type {\n",
       "        vertical-align: middle;\n",
       "    }\n",
       "\n",
       "    .dataframe tbody tr th {\n",
       "        vertical-align: top;\n",
       "    }\n",
       "\n",
       "    .dataframe thead th {\n",
       "        text-align: right;\n",
       "    }\n",
       "</style>\n",
       "<table border=\"1\" class=\"dataframe\">\n",
       "  <thead>\n",
       "    <tr style=\"text-align: right;\">\n",
       "      <th></th>\n",
       "      <th>bt</th>\n",
       "      <th>f</th>\n",
       "      <th>ht</th>\n",
       "      <th>mt</th>\n",
       "      <th>pof</th>\n",
       "      <th>new_labels</th>\n",
       "    </tr>\n",
       "  </thead>\n",
       "  <tbody>\n",
       "    <tr>\n",
       "      <th>count</th>\n",
       "      <td>12789.000000</td>\n",
       "      <td>12789.000000</td>\n",
       "      <td>12789.000000</td>\n",
       "      <td>12789.000000</td>\n",
       "      <td>12789.000000</td>\n",
       "      <td>12789.000000</td>\n",
       "    </tr>\n",
       "    <tr>\n",
       "      <th>mean</th>\n",
       "      <td>11.583939</td>\n",
       "      <td>13.359059</td>\n",
       "      <td>17.185785</td>\n",
       "      <td>16.497850</td>\n",
       "      <td>6.251388</td>\n",
       "      <td>2.711158</td>\n",
       "    </tr>\n",
       "    <tr>\n",
       "      <th>std</th>\n",
       "      <td>18.978037</td>\n",
       "      <td>24.140086</td>\n",
       "      <td>35.847678</td>\n",
       "      <td>36.165276</td>\n",
       "      <td>16.180777</td>\n",
       "      <td>1.560605</td>\n",
       "    </tr>\n",
       "    <tr>\n",
       "      <th>min</th>\n",
       "      <td>0.000000</td>\n",
       "      <td>0.000000</td>\n",
       "      <td>0.000000</td>\n",
       "      <td>0.000000</td>\n",
       "      <td>0.000000</td>\n",
       "      <td>0.000000</td>\n",
       "    </tr>\n",
       "    <tr>\n",
       "      <th>25%</th>\n",
       "      <td>0.000000</td>\n",
       "      <td>0.000000</td>\n",
       "      <td>0.000000</td>\n",
       "      <td>0.000000</td>\n",
       "      <td>0.000000</td>\n",
       "      <td>1.000000</td>\n",
       "    </tr>\n",
       "    <tr>\n",
       "      <th>50%</th>\n",
       "      <td>2.000000</td>\n",
       "      <td>2.000000</td>\n",
       "      <td>3.000000</td>\n",
       "      <td>3.000000</td>\n",
       "      <td>1.000000</td>\n",
       "      <td>3.000000</td>\n",
       "    </tr>\n",
       "    <tr>\n",
       "      <th>75%</th>\n",
       "      <td>12.000000</td>\n",
       "      <td>15.000000</td>\n",
       "      <td>13.000000</td>\n",
       "      <td>12.000000</td>\n",
       "      <td>5.000000</td>\n",
       "      <td>4.000000</td>\n",
       "    </tr>\n",
       "    <tr>\n",
       "      <th>max</th>\n",
       "      <td>70.000000</td>\n",
       "      <td>114.000000</td>\n",
       "      <td>160.000000</td>\n",
       "      <td>163.000000</td>\n",
       "      <td>105.000000</td>\n",
       "      <td>5.000000</td>\n",
       "    </tr>\n",
       "  </tbody>\n",
       "</table>\n",
       "</div>"
      ],
      "text/plain": [
       "                 bt             f            ht            mt           pof  \\\n",
       "count  12789.000000  12789.000000  12789.000000  12789.000000  12789.000000   \n",
       "mean      11.583939     13.359059     17.185785     16.497850      6.251388   \n",
       "std       18.978037     24.140086     35.847678     36.165276     16.180777   \n",
       "min        0.000000      0.000000      0.000000      0.000000      0.000000   \n",
       "25%        0.000000      0.000000      0.000000      0.000000      0.000000   \n",
       "50%        2.000000      2.000000      3.000000      3.000000      1.000000   \n",
       "75%       12.000000     15.000000     13.000000     12.000000      5.000000   \n",
       "max       70.000000    114.000000    160.000000    163.000000    105.000000   \n",
       "\n",
       "         new_labels  \n",
       "count  12789.000000  \n",
       "mean       2.711158  \n",
       "std        1.560605  \n",
       "min        0.000000  \n",
       "25%        1.000000  \n",
       "50%        3.000000  \n",
       "75%        4.000000  \n",
       "max        5.000000  "
      ]
     },
     "execution_count": 55,
     "metadata": {},
     "output_type": "execute_result"
    }
   ],
   "source": [
    "train.info()\n",
    "all_data.describe()"
   ]
  },
  {
   "cell_type": "code",
   "execution_count": 13,
   "metadata": {},
   "outputs": [
    {
     "data": {
      "text/html": [
       "<div>\n",
       "<style scoped>\n",
       "    .dataframe tbody tr th:only-of-type {\n",
       "        vertical-align: middle;\n",
       "    }\n",
       "\n",
       "    .dataframe tbody tr th {\n",
       "        vertical-align: top;\n",
       "    }\n",
       "\n",
       "    .dataframe thead th {\n",
       "        text-align: right;\n",
       "    }\n",
       "</style>\n",
       "<table border=\"1\" class=\"dataframe\">\n",
       "  <thead>\n",
       "    <tr style=\"text-align: right;\">\n",
       "      <th></th>\n",
       "      <th>Total</th>\n",
       "      <th>Percent</th>\n",
       "    </tr>\n",
       "  </thead>\n",
       "  <tbody>\n",
       "    <tr>\n",
       "      <th>context</th>\n",
       "      <td>129</td>\n",
       "      <td>1.01</td>\n",
       "    </tr>\n",
       "    <tr>\n",
       "      <th>justification</th>\n",
       "      <td>0</td>\n",
       "      <td>0.00</td>\n",
       "    </tr>\n",
       "    <tr>\n",
       "      <th>pof</th>\n",
       "      <td>0</td>\n",
       "      <td>0.00</td>\n",
       "    </tr>\n",
       "    <tr>\n",
       "      <th>mt</th>\n",
       "      <td>0</td>\n",
       "      <td>0.00</td>\n",
       "    </tr>\n",
       "    <tr>\n",
       "      <th>ht</th>\n",
       "      <td>0</td>\n",
       "      <td>0.00</td>\n",
       "    </tr>\n",
       "    <tr>\n",
       "      <th>f</th>\n",
       "      <td>0</td>\n",
       "      <td>0.00</td>\n",
       "    </tr>\n",
       "    <tr>\n",
       "      <th>bt</th>\n",
       "      <td>0</td>\n",
       "      <td>0.00</td>\n",
       "    </tr>\n",
       "    <tr>\n",
       "      <th>party</th>\n",
       "      <td>0</td>\n",
       "      <td>0.00</td>\n",
       "    </tr>\n",
       "    <tr>\n",
       "      <th>speaker</th>\n",
       "      <td>0</td>\n",
       "      <td>0.00</td>\n",
       "    </tr>\n",
       "    <tr>\n",
       "      <th>subject</th>\n",
       "      <td>0</td>\n",
       "      <td>0.00</td>\n",
       "    </tr>\n",
       "    <tr>\n",
       "      <th>statement</th>\n",
       "      <td>0</td>\n",
       "      <td>0.00</td>\n",
       "    </tr>\n",
       "    <tr>\n",
       "      <th>label</th>\n",
       "      <td>0</td>\n",
       "      <td>0.00</td>\n",
       "    </tr>\n",
       "  </tbody>\n",
       "</table>\n",
       "</div>"
      ],
      "text/plain": [
       "               Total  Percent\n",
       "context          129     1.01\n",
       "justification      0     0.00\n",
       "pof                0     0.00\n",
       "mt                 0     0.00\n",
       "ht                 0     0.00\n",
       "f                  0     0.00\n",
       "bt                 0     0.00\n",
       "party              0     0.00\n",
       "speaker            0     0.00\n",
       "subject            0     0.00\n",
       "statement          0     0.00\n",
       "label              0     0.00"
      ]
     },
     "execution_count": 13,
     "metadata": {},
     "output_type": "execute_result"
    }
   ],
   "source": [
    "total = all_data.isnull().sum().sort_values(ascending = False)\n",
    "percent = round(all_data.isnull().sum().sort_values(ascending = False)/len(all_data)*100, 2)\n",
    "pd.concat([total, percent], axis = 1,keys= ['Total', 'Percent'])"
   ]
  },
  {
   "cell_type": "code",
   "execution_count": 14,
   "metadata": {},
   "outputs": [
    {
     "name": "stdout",
     "output_type": "stream",
     "text": [
      "12789\n",
      "12789\n"
     ]
    }
   ],
   "source": [
    "all_statements = []\n",
    "all_justifications = []\n",
    "\n",
    "\n",
    "for i in all_data['statement']:\n",
    "    all_statements.append(i)\n",
    "\n",
    "for line in all_data['justification']:\n",
    "    all_justifications.append(line)\n",
    "\n",
    "print(len(all_statements))\n",
    "print(len(all_justifications))"
   ]
  },
  {
   "cell_type": "code",
   "execution_count": 15,
   "metadata": {},
   "outputs": [
    {
     "name": "stdout",
     "output_type": "stream",
     "text": [
      "Index(['label', 'statement', 'subject', 'speaker', 'party', 'bt', 'f', 'ht',\n",
      "       'mt', 'pof', 'context', 'justification', 'new_labels'],\n",
      "      dtype='object')\n"
     ]
    }
   ],
   "source": [
    "print(train.columns)"
   ]
  },
  {
   "cell_type": "code",
   "execution_count": 16,
   "metadata": {},
   "outputs": [
    {
     "name": "stdout",
     "output_type": "stream",
     "text": [
      "['republican', 'democrat', 'none', 'organization', 'independent', 'columnist', 'activist', 'talk-show-host', 'libertarian', 'newsmaker', 'journalist', 'labor-leader', 'state-official', 'business-leader', 'education-official', 'tea-party-member', 'green', 'liberal-party-canada', 'government-body', 'Moderate', 'democratic-farmer-labor', 'ocean-state-tea-party-action', 'constitution-party']\n",
      "23\n"
     ]
    }
   ],
   "source": [
    "parties = train.party.unique().tolist()\n",
    "print(parties)\n",
    "print(len(parties))"
   ]
  },
  {
   "cell_type": "code",
   "execution_count": 17,
   "metadata": {},
   "outputs": [
    {
     "name": "stdout",
     "output_type": "stream",
     "text": [
      "4346\n"
     ]
    }
   ],
   "source": [
    "contexts = train.context.unique().tolist()\n",
    "print(len(contexts))"
   ]
  },
  {
   "cell_type": "code",
   "execution_count": 18,
   "metadata": {},
   "outputs": [],
   "source": [
    "# train[train.justification.isnull()]\n",
    "plot_size = plt.rcParams[\"figure.figsize\"] \n",
    "\n",
    "plot_size[0] = 8\n",
    "plot_size[1] = 6\n",
    "plt.rcParams[\"figure.figsize\"] = plot_size "
   ]
  },
  {
   "cell_type": "code",
   "execution_count": 19,
   "metadata": {},
   "outputs": [
    {
     "data": {
      "text/plain": [
       "<matplotlib.axes._subplots.AxesSubplot at 0x7f3065d386d8>"
      ]
     },
     "execution_count": 19,
     "metadata": {},
     "output_type": "execute_result"
    },
    {
     "data": {
      "image/png": "[encoded data removed]",
      "text/plain": [
       "<Figure size 576x432 with 1 Axes>"
      ]
     },
     "metadata": {},
     "output_type": "display_data"
    }
   ],
   "source": [
    "all_data.label.value_counts().plot(kind='pie', autopct='%1.0f%%')"
   ]
  },
  {
   "cell_type": "code",
   "execution_count": 20,
   "metadata": {},
   "outputs": [
    {
     "data": {
      "text/plain": [
       "<matplotlib.axes._subplots.AxesSubplot at 0x7f3066561390>"
      ]
     },
     "execution_count": 20,
     "metadata": {},
     "output_type": "execute_result"
    },
    {
     "data": {
      "image/png": "[encoded data removed]",
      "text/plain": [
       "<Figure size 1008x432 with 1 Axes>"
      ]
     },
     "metadata": {
      "needs_background": "light"
     },
     "output_type": "display_data"
    }
   ],
   "source": [
    "# fact_sentiments = all_data.groupby(['statement', 'label']).label.count().unstack()\n",
    "# fact_sentiments.plot(kind='bar')\n",
    "plt.figure(figsize=(14, 6))\n",
    "sns.countplot(x=all_data['label'], data=all_data, palette='deep')"
   ]
  },
  {
   "cell_type": "code",
   "execution_count": 21,
   "metadata": {},
   "outputs": [],
   "source": [
    "import re\n",
    "\n",
    "REPLACE_NO_SPACE = re.compile(\"(\\.)|(\\;)|(\\:)|(\\!)|(\\')|(\\?)|(\\,)|(\\\")|(\\()|(\\))|(\\[)|(\\])|(\\d+)\")\n",
    "REPLACE_WITH_SPACE = re.compile(\"(<br\\s*/><br\\s*/>)|(\\-)|(\\/)\")\n",
    "NO_SPACE = \"\"\n",
    "SPACE = \" \"\n",
    "\n",
    "def preprocess_reviews(reviews):\n",
    "    \n",
    "    reviews = [REPLACE_NO_SPACE.sub(NO_SPACE, line.lower()) for line in reviews]\n",
    "    reviews = [REPLACE_WITH_SPACE.sub(SPACE, line) for line in reviews]\n",
    "    \n",
    "    return reviews\n",
    "\n",
    "statements_clean = preprocess_reviews(all_statements)\n",
    "justifications_clean = preprocess_reviews(all_justifications)\n",
    "# review_test_clean = preprocess_reviews(reviews_test)"
   ]
  },
  {
   "cell_type": "code",
   "execution_count": 22,
   "metadata": {},
   "outputs": [
    {
     "name": "stdout",
     "output_type": "stream",
     "text": [
      "10238 1284 1267\n"
     ]
    }
   ],
   "source": [
    "X_train = statements_clean[:train.shape[0]]\n",
    "X_val = statements_clean[train.shape[0]:train.shape[0]+val.shape[0]]\n",
    "X_test = statements_clean[train.shape[0]+val.shape[0]:]\n",
    "print(len(X_train), len(X_val), len(X_test))\n",
    "# print(X_train)"
   ]
  },
  {
   "cell_type": "code",
   "execution_count": 23,
   "metadata": {},
   "outputs": [],
   "source": [
    "Y_train_bi = Y_binary[:train.shape[0]]\n",
    "Y_val_bi = Y_binary[train.shape[0]:train.shape[0]+val.shape[0]]\n",
    "Y_test_bi = Y_binary[train.shape[0]+val.shape[0]:]\n",
    "\n",
    "Y_train_six = Y_six[:train.shape[0]]\n",
    "Y_val_six = Y_six[train.shape[0]:train.shape[0]+val.shape[0]]\n",
    "Y_test_six = Y_six[train.shape[0]+val.shape[0]:]"
   ]
  },
  {
   "cell_type": "code",
   "execution_count": 24,
   "metadata": {},
   "outputs": [
    {
     "name": "stdout",
     "output_type": "stream",
     "text": [
      "(10238, 11733)\n",
      "(1284, 11733)\n"
     ]
    }
   ],
   "source": [
    "stop_words = ['in', 'of', 'at', 'a', 'the']\n",
    "\n",
    "# Not using stop words\n",
    "\n",
    "v = CountVectorizer()\n",
    "v.fit(X_train)\n",
    "\n",
    "X_train_bow = v.transform(X_train)\n",
    "X_val_bow = v.transform(X_val)\n",
    "X_test_bow = v.transform(X_test)\n",
    "\n",
    "print(X_train_bow.shape)\n",
    "print(X_val_bow.shape)"
   ]
  },
  {
   "cell_type": "code",
   "execution_count": 25,
   "metadata": {},
   "outputs": [
    {
     "name": "stdout",
     "output_type": "stream",
     "text": [
      "Val: LR:S:  0.6207165109034268\n",
      "Test: LR:S:  0.6298342541436464\n"
     ]
    },
    {
     "name": "stderr",
     "output_type": "stream",
     "text": [
      "/home/akash/anaconda3/lib/python3.7/site-packages/sklearn/linear_model/logistic.py:432: FutureWarning: Default solver will be changed to 'lbfgs' in 0.22. Specify a solver to silence this warning.\n",
      "  FutureWarning)\n"
     ]
    }
   ],
   "source": [
    "c = LogisticRegression(C=0.05)\n",
    "c.fit(X_train_bow, Y_train_bi)\n",
    "\n",
    "val_score = c.score(X_val_bow, Y_val_bi)\n",
    "print(\"Val: LR:S: \", val_score)\n",
    "test_score = c.score(X_test_bow, Y_test_bi)\n",
    "print(\"Test: LR:S: \", test_score)"
   ]
  },
  {
   "cell_type": "code",
   "execution_count": 26,
   "metadata": {},
   "outputs": [
    {
     "name": "stdout",
     "output_type": "stream",
     "text": [
      "Accuracy for C=0.01: 0.618380062305296\n",
      "Accuracy for C=0.01: 0.6108918705603789\n",
      "Accuracy for C=0.05: 0.6207165109034268\n",
      "Accuracy for C=0.05: 0.6298342541436464\n",
      "Accuracy for C=0.25: 0.6004672897196262\n",
      "Accuracy for C=0.25: 0.6258879242304657\n",
      "Accuracy for C=0.5: 0.5965732087227414\n",
      "Accuracy for C=0.5: 0.6203630623520127\n",
      "Accuracy for C=1: 0.5887850467289719\n",
      "Accuracy for C=1: 0.6195737963693765\n"
     ]
    }
   ],
   "source": [
    "for c in [0.01, 0.05, 0.25, 0.5, 1]:\n",
    "    \n",
    "    lr = LogisticRegression(C=c)\n",
    "    lr.fit(X_train_bow, Y_train_bi)\n",
    "    print (\"Accuracy for C=%s: %s\" \n",
    "           % (c, accuracy_score(Y_val_bi, lr.predict(X_val_bow))))\n",
    "    print (\"Accuracy for C=%s: %s\" \n",
    "           % (c, accuracy_score(Y_test_bi, lr.predict(X_test_bow))))"
   ]
  },
  {
   "cell_type": "code",
   "execution_count": 27,
   "metadata": {},
   "outputs": [
    {
     "name": "stderr",
     "output_type": "stream",
     "text": [
      "/home/akash/anaconda3/lib/python3.7/site-packages/sklearn/linear_model/logistic.py:469: FutureWarning: Default multi_class will be changed to 'auto' in 0.22. Specify the multi_class option to silence this warning.\n",
      "  \"this warning.\", FutureWarning)\n"
     ]
    },
    {
     "name": "stdout",
     "output_type": "stream",
     "text": [
      "0.24221183800623053\n",
      "0.2573007103393844\n"
     ]
    }
   ],
   "source": [
    "c_six = LogisticRegression(C=0.05)\n",
    "c_six.fit(X_train_bow, Y_train_six)\n",
    "\n",
    "score = c_six.score(X_val_bow, Y_val_six)\n",
    "print(score)\n",
    "test_score = c_six.score(X_test_bow, Y_test_six)\n",
    "print(test_score)"
   ]
  },
  {
   "cell_type": "code",
   "execution_count": 28,
   "metadata": {},
   "outputs": [
    {
     "name": "stdout",
     "output_type": "stream",
     "text": [
      "(10238, 11733)\n"
     ]
    }
   ],
   "source": [
    "tf_idf = TfidfVectorizer()\n",
    "tf_idf.fit(X_train)\n",
    "\n",
    "X_train_idf = tf_idf.transform(X_train)\n",
    "X_val_idf = tf_idf.transform(X_val)\n",
    "X_test_idf = tf_idf.transform(X_test)\n",
    "\n",
    "print(X_train_idf.shape)"
   ]
  },
  {
   "cell_type": "code",
   "execution_count": 29,
   "metadata": {},
   "outputs": [
    {
     "data": {
      "text/plain": [
       "LogisticRegression(C=0.05, class_weight=None, dual=False, fit_intercept=True,\n",
       "                   intercept_scaling=1, l1_ratio=None, max_iter=100,\n",
       "                   multi_class='warn', n_jobs=None, penalty='l2',\n",
       "                   random_state=None, solver='warn', tol=0.0001, verbose=0,\n",
       "                   warm_start=False)"
      ]
     },
     "execution_count": 29,
     "metadata": {},
     "output_type": "execute_result"
    }
   ],
   "source": [
    "lr1 = LogisticRegression(C=0.05)\n",
    "lr1.fit(X_train_idf, Y_train_bi)"
   ]
  },
  {
   "cell_type": "code",
   "execution_count": 30,
   "metadata": {},
   "outputs": [
    {
     "name": "stdout",
     "output_type": "stream",
     "text": [
      "0.5607476635514018\n",
      "F1: 0.6928104575163397\n"
     ]
    }
   ],
   "source": [
    "y_pred_bi = lr1.predict(X_val_idf)\n",
    "print(accuracy_score(Y_val_bi, y_pred_bi))\n",
    "print(\"F1:\", f1_score(Y_val_bi, y_pred_bi))"
   ]
  },
  {
   "cell_type": "code",
   "execution_count": 31,
   "metadata": {},
   "outputs": [
    {
     "name": "stdout",
     "output_type": "stream",
     "text": [
      "0.5607476635514018\n",
      "0.5872138910812944\n"
     ]
    }
   ],
   "source": [
    "val_score = lr1.score(X_val_idf, Y_val_bi)\n",
    "print(val_score)\n",
    "test_score = lr1.score(X_test_idf, Y_test_bi)\n",
    "print(test_score)"
   ]
  },
  {
   "cell_type": "code",
   "execution_count": 32,
   "metadata": {},
   "outputs": [
    {
     "data": {
      "text/plain": [
       "LogisticRegression(C=0.05, class_weight=None, dual=False, fit_intercept=True,\n",
       "                   intercept_scaling=1, l1_ratio=None, max_iter=100,\n",
       "                   multi_class='warn', n_jobs=None, penalty='l2',\n",
       "                   random_state=None, solver='warn', tol=0.0001, verbose=0,\n",
       "                   warm_start=False)"
      ]
     },
     "execution_count": 32,
     "metadata": {},
     "output_type": "execute_result"
    }
   ],
   "source": [
    "lr2 = LogisticRegression(C=0.05)\n",
    "lr2.fit(X_train_idf, Y_train_six)"
   ]
  },
  {
   "cell_type": "code",
   "execution_count": 33,
   "metadata": {},
   "outputs": [
    {
     "name": "stdout",
     "output_type": "stream",
     "text": [
      "0.23598130841121495\n",
      "0.250197316495659\n"
     ]
    }
   ],
   "source": [
    "val_score = lr2.score(X_val_idf, Y_val_six)\n",
    "print(val_score)\n",
    "test_score = lr2.score(X_test_idf, Y_test_six)\n",
    "print(test_score)"
   ]
  },
  {
   "cell_type": "code",
   "execution_count": 34,
   "metadata": {},
   "outputs": [
    {
     "name": "stdout",
     "output_type": "stream",
     "text": [
      "F1: 0.23130841121495327\n"
     ]
    }
   ],
   "source": [
    "y_pred_six = lr2.predict(X_val_bow)\n",
    "print(\"F1:\", f1_score(Y_val_six, y_pred_six, average='micro'))"
   ]
  },
  {
   "cell_type": "code",
   "execution_count": 35,
   "metadata": {},
   "outputs": [
    {
     "name": "stderr",
     "output_type": "stream",
     "text": [
      "/home/akash/anaconda3/lib/python3.7/site-packages/sklearn/svm/base.py:193: FutureWarning: The default value of gamma will change from 'auto' to 'scale' in version 0.22 to account better for unscaled features. Set gamma explicitly to 'auto' or 'scale' to avoid this warning.\n",
      "  \"avoid this warning.\", FutureWarning)\n"
     ]
    },
    {
     "data": {
      "text/plain": [
       "SVC(C=0.05, cache_size=200, class_weight=None, coef0=0.0,\n",
       "    decision_function_shape='ovr', degree=3, gamma='auto_deprecated',\n",
       "    kernel='rbf', max_iter=-1, probability=False, random_state=None,\n",
       "    shrinking=True, tol=0.001, verbose=False)"
      ]
     },
     "execution_count": 35,
     "metadata": {},
     "output_type": "execute_result"
    }
   ],
   "source": [
    "svm1 = SVC(C=0.05)\n",
    "svm1.fit(X_train_bow, Y_train_bi)"
   ]
  },
  {
   "cell_type": "code",
   "execution_count": 36,
   "metadata": {},
   "outputs": [
    {
     "name": "stdout",
     "output_type": "stream",
     "text": [
      "0.5202492211838006\n",
      "0.56353591160221\n"
     ]
    }
   ],
   "source": [
    "val_score= svm1.score(X_val_bow, Y_val_bi)\n",
    "print(val_score)\n",
    "test_score = svm1.score(X_test_bow, Y_test_bi)\n",
    "print(test_score)"
   ]
  },
  {
   "cell_type": "code",
   "execution_count": 37,
   "metadata": {},
   "outputs": [
    {
     "name": "stdout",
     "output_type": "stream",
     "text": [
      "Accuracy for C=0.01: 0.23208722741433022\n",
      "Accuracy for C=0.05: 0.23052959501557632\n",
      "Accuracy for C=0.25: 0.22819314641744548\n",
      "Accuracy for C=0.5: 0.23442367601246106\n",
      "Accuracy for C=1: 0.2398753894080997\n"
     ]
    },
    {
     "name": "stderr",
     "output_type": "stream",
     "text": [
      "/home/akash/anaconda3/lib/python3.7/site-packages/sklearn/svm/base.py:929: ConvergenceWarning: Liblinear failed to converge, increase the number of iterations.\n",
      "  \"the number of iterations.\", ConvergenceWarning)\n"
     ]
    }
   ],
   "source": [
    "for c in [0.01, 0.05, 0.25, 0.5, 1]:\n",
    "    \n",
    "    svm = LinearSVC(C=c)\n",
    "    svm.fit(X_train_bow, Y_train_six)\n",
    "    print (\"Accuracy for C=%s: %s\" \n",
    "           % (c, accuracy_score(Y_val_six, svm.predict(X_val_bow))))"
   ]
  },
  {
   "cell_type": "code",
   "execution_count": 38,
   "metadata": {},
   "outputs": [
    {
     "name": "stdout",
     "output_type": "stream",
     "text": [
      "12789\n"
     ]
    }
   ],
   "source": [
    "s_j_clean = []\n",
    "\n",
    "for i in range(len(all_statements)):\n",
    "    s_j_clean += [statements_clean[i] +SPACE +  justifications_clean[i]]\n",
    "\n",
    "print(len(s_j_clean))"
   ]
  },
  {
   "cell_type": "code",
   "execution_count": 39,
   "metadata": {},
   "outputs": [
    {
     "name": "stdout",
     "output_type": "stream",
     "text": [
      "10238 1284 1267\n"
     ]
    }
   ],
   "source": [
    "X_train = s_j_clean[:train.shape[0]]\n",
    "X_val = s_j_clean[train.shape[0]:train.shape[0]+val.shape[0]]\n",
    "X_test = s_j_clean[train.shape[0]+val.shape[0]:]\n",
    "print(len(X_train), len(X_val), len(X_test))"
   ]
  },
  {
   "cell_type": "code",
   "execution_count": 40,
   "metadata": {},
   "outputs": [
    {
     "name": "stdout",
     "output_type": "stream",
     "text": [
      "(10238, 24344)\n",
      "(1284, 24344)\n"
     ]
    }
   ],
   "source": [
    "stop_words = ['in', 'of', 'at', 'a', 'the']\n",
    "\n",
    "# Not using stop words\n",
    "\n",
    "v = CountVectorizer()\n",
    "v.fit(X_train)\n",
    "\n",
    "X_train_bow = v.transform(X_train)\n",
    "X_val_bow = v.transform(X_val)\n",
    "X_test_bow = v.transform(X_test)\n",
    "\n",
    "print(X_train_bow.shape)\n",
    "print(X_val_bow.shape)\n"
   ]
  },
  {
   "cell_type": "code",
   "execution_count": 41,
   "metadata": {},
   "outputs": [
    {
     "name": "stdout",
     "output_type": "stream",
     "text": [
      "0.5545171339563862\n",
      "0.5445935280189423\n"
     ]
    }
   ],
   "source": [
    "c = LogisticRegression()\n",
    "c.fit(X_train_bow, Y_train_bi)\n",
    "score = c.score(X_val_bow, Y_val_bi)\n",
    "print(score)\n",
    "test_score = c.score(X_test_bow, Y_test_bi)\n",
    "print(test_score)\n"
   ]
  },
  {
   "cell_type": "code",
   "execution_count": 42,
   "metadata": {},
   "outputs": [
    {
     "name": "stdout",
     "output_type": "stream",
     "text": [
      "Accuracy for C=0.01: 0.6082554517133957\n",
      "Accuracy for C=0.01: 0.5832675611681136\n",
      "Accuracy for C=0.05: 0.5841121495327103\n",
      "Accuracy for C=0.05: 0.5674822415153907\n",
      "Accuracy for C=0.25: 0.5623052959501558\n",
      "Accuracy for C=0.25: 0.5556432517758485\n",
      "Accuracy for C=0.5: 0.5568535825545171\n",
      "Accuracy for C=0.5: 0.5469613259668509\n",
      "Accuracy for C=1: 0.5545171339563862\n",
      "Accuracy for C=1: 0.5445935280189423\n"
     ]
    }
   ],
   "source": [
    "for c in [0.01, 0.05, 0.25, 0.5, 1]:\n",
    "    train\n",
    "    lr = LogisticRegression(C=c)\n",
    "    lr.fit(X_train_bow, Y_train_bi)\n",
    "    print (\"Accuracy for C=%s: %s\" \n",
    "           % (c, accuracy_score(Y_val_bi, lr.predict(X_val_bow))))\n",
    "    print (\"Accuracy for C=%s: %s\" \n",
    "           % (c, accuracy_score(Y_test_bi, lr.predict(X_test_bow))))"
   ]
  },
  {
   "cell_type": "code",
   "execution_count": 43,
   "metadata": {},
   "outputs": [
    {
     "name": "stdout",
     "output_type": "stream",
     "text": [
      "0.21728971962616822\n",
      "0.1910023677979479\n"
     ]
    },
    {
     "name": "stderr",
     "output_type": "stream",
     "text": [
      "/home/akash/anaconda3/lib/python3.7/site-packages/sklearn/svm/base.py:929: ConvergenceWarning: Liblinear failed to converge, increase the number of iterations.\n",
      "  \"the number of iterations.\", ConvergenceWarning)\n"
     ]
    }
   ],
   "source": [
    "c_six = LogisticRegression()\n",
    "c_six.fit(X_train_bow, Y_train_six)\n",
    "\n",
    "val_score = c_six.score(X_val_bow, Y_val_six)\n",
    "print(val_score)\n",
    "test_score = c_six.score(X_test_bow, Y_test_six)\n",
    "print(test_score)"
   ]
  },
  {
   "cell_type": "code",
   "execution_count": 44,
   "metadata": {},
   "outputs": [
    {
     "name": "stdout",
     "output_type": "stream",
     "text": [
      "10238 1284 1267\n",
      "(10238, 22892)\n",
      "(1284, 22892)\n",
      "10238\n"
     ]
    }
   ],
   "source": [
    "X_train = justifications_clean[:train.shape[0]]\n",
    "X_val = justifications_clean[train.shape[0]:train.shape[0]+val.shape[0]]\n",
    "X_test = justifications_clean[train.shape[0]+val.shape[0]:]\n",
    "print(len(X_train), len(X_val), len(X_test))\n",
    "\n",
    "stop_words = ['in', 'of', 'at', 'a', 'the']\n",
    "\n",
    "# Not using stop words\n",
    "\n",
    "v = CountVectorizer()\n",
    "v.fit(X_train)\n",
    "\n",
    "X_train_bow = v.transform(X_train)\n",
    "X_val_bow = v.transform(X_val)\n",
    "X_test_bow = v.transform(X_test)\n",
    "\n",
    "print(X_train_bow.shape)\n",
    "print(X_val_bow.shape)\n",
    "print(len(Y_train_bi))"
   ]
  },
  {
   "cell_type": "code",
   "execution_count": 45,
   "metadata": {},
   "outputs": [
    {
     "name": "stdout",
     "output_type": "stream",
     "text": [
      "0.544392523364486\n",
      "0.5335438042620363\n"
     ]
    }
   ],
   "source": [
    "c = LogisticRegression(C=0.05)\n",
    "c.fit(X_train_bow, Y_train_bi)\n",
    "\n",
    "val_score = c.score(X_val_bow, Y_val_bi)\n",
    "print(val_score)\n",
    "test_score = c.score(X_test_bow, Y_test_bi)\n",
    "print(test_score)"
   ]
  },
  {
   "cell_type": "code",
   "execution_count": 69,
   "metadata": {},
   "outputs": [
    {
     "name": "stdout",
     "output_type": "stream",
     "text": [
      "Index(['label', 'statement', 'subject', 'speaker', 'party', 'bt', 'f', 'ht',\n",
      "       'mt', 'pof', 'context', 'justification', 'new_labels'],\n",
      "      dtype='object')\n"
     ]
    },
    {
     "data": {
      "text/plain": [
       "republican                      5665\n",
       "democrat                        4137\n",
       "none                            2181\n",
       "organization                     264\n",
       "independent                      180\n",
       "newsmaker                         64\n",
       "libertarian                       51\n",
       "journalist                        49\n",
       "activist                          45\n",
       "columnist                         44\n",
       "talk-show-host                    32\n",
       "state-official                    24\n",
       "labor-leader                      15\n",
       "business-leader                   11\n",
       "tea-party-member                  10\n",
       "education-official                 3\n",
       "constitution-party                 3\n",
       "green                              3\n",
       "government-body                    2\n",
       "county-commissioner                2\n",
       "liberal-party-canada               1\n",
       "ocean-state-tea-party-action       1\n",
       "Moderate                           1\n",
       "democratic-farmer-labor            1\n",
       "Name: party, dtype: int64"
      ]
     },
     "execution_count": 69,
     "metadata": {},
     "output_type": "execute_result"
    }
   ],
   "source": [
    "print(all_data.columns)\n",
    "all_data['party'].value_counts()"
   ]
  },
  {
   "cell_type": "code",
   "execution_count": 76,
   "metadata": {},
   "outputs": [
    {
     "name": "stdout",
     "output_type": "stream",
     "text": [
      "{'republican': 5665, 'democrat': 4137, 'none': 2181, 'organization': 264, 'independent': 180, 'newsmaker': 64, 'libertarian': 51, 'journalist': 49, 'activist': 45, 'columnist': 44, 'talk-show-host': 32, 'state-official': 24, 'labor-leader': 15, 'business-leader': 11, 'tea-party-member': 10, 'education-official': 3, 'constitution-party': 3, 'green': 3, 'government-body': 2, 'county-commissioner': 2, 'liberal-party-canada': 1, 'ocean-state-tea-party-action': 1, 'Moderate': 1, 'democratic-farmer-labor': 1}\n"
     ]
    }
   ],
   "source": [
    "p = all_data['party'].value_counts().to_dict()\n",
    "print(p)\n",
    "# for key in p:\n",
    "#     if 20<p[key]<100:\n",
    "#         p[key]=5\n",
    "#     elif p[key]<20:\n",
    "#         p[key]=6\n",
    "# print(p)"
   ]
  },
  {
   "cell_type": "code",
   "execution_count": 77,
   "metadata": {},
   "outputs": [],
   "source": [
    "def party_estimator(x):\n",
    "    party=0\n",
    "    if x=='republican':\n",
    "        party=1\n",
    "    elif x=='democrat':\n",
    "        party=2\n",
    "    elif x=='organization':\n",
    "        party=3\n",
    "    elif x=='independent':\n",
    "        party=4\n",
    "    else:\n",
    "        party=0\n",
    "        \n",
    "    return party"
   ]
  },
  {
   "cell_type": "code",
   "execution_count": 78,
   "metadata": {},
   "outputs": [
    {
     "data": {
      "text/html": [
       "<div>\n",
       "<style scoped>\n",
       "    .dataframe tbody tr th:only-of-type {\n",
       "        vertical-align: middle;\n",
       "    }\n",
       "\n",
       "    .dataframe tbody tr th {\n",
       "        vertical-align: top;\n",
       "    }\n",
       "\n",
       "    .dataframe thead th {\n",
       "        text-align: right;\n",
       "    }\n",
       "</style>\n",
       "<table border=\"1\" class=\"dataframe\">\n",
       "  <thead>\n",
       "    <tr style=\"text-align: right;\">\n",
       "      <th></th>\n",
       "      <th>label</th>\n",
       "      <th>statement</th>\n",
       "      <th>subject</th>\n",
       "      <th>speaker</th>\n",
       "      <th>party</th>\n",
       "      <th>bt</th>\n",
       "      <th>f</th>\n",
       "      <th>ht</th>\n",
       "      <th>mt</th>\n",
       "      <th>pof</th>\n",
       "      <th>context</th>\n",
       "      <th>justification</th>\n",
       "      <th>new_labels</th>\n",
       "      <th>parties</th>\n",
       "    </tr>\n",
       "    <tr>\n",
       "      <th>0</th>\n",
       "      <th></th>\n",
       "      <th></th>\n",
       "      <th></th>\n",
       "      <th></th>\n",
       "      <th></th>\n",
       "      <th></th>\n",
       "      <th></th>\n",
       "      <th></th>\n",
       "      <th></th>\n",
       "      <th></th>\n",
       "      <th></th>\n",
       "      <th></th>\n",
       "      <th></th>\n",
       "      <th></th>\n",
       "    </tr>\n",
       "  </thead>\n",
       "  <tbody>\n",
       "    <tr>\n",
       "      <th>0</th>\n",
       "      <td>false</td>\n",
       "      <td>Says the Annies List political group supports ...</td>\n",
       "      <td>abortion</td>\n",
       "      <td>dwayne-bohac</td>\n",
       "      <td>republican</td>\n",
       "      <td>0</td>\n",
       "      <td>1</td>\n",
       "      <td>0</td>\n",
       "      <td>0</td>\n",
       "      <td>0</td>\n",
       "      <td>a mailer</td>\n",
       "      <td>That's a premise that he fails to back up. Ann...</td>\n",
       "      <td>1</td>\n",
       "      <td>1</td>\n",
       "    </tr>\n",
       "    <tr>\n",
       "      <th>1</th>\n",
       "      <td>half-true</td>\n",
       "      <td>When did the decline of coal start? It started...</td>\n",
       "      <td>energy,history,job-accomplishments</td>\n",
       "      <td>scott-surovell</td>\n",
       "      <td>democrat</td>\n",
       "      <td>0</td>\n",
       "      <td>0</td>\n",
       "      <td>1</td>\n",
       "      <td>1</td>\n",
       "      <td>0</td>\n",
       "      <td>a floor speech.</td>\n",
       "      <td>Surovell said the decline of coal \"started whe...</td>\n",
       "      <td>3</td>\n",
       "      <td>2</td>\n",
       "    </tr>\n",
       "    <tr>\n",
       "      <th>2</th>\n",
       "      <td>mostly-true</td>\n",
       "      <td>Hillary Clinton agrees with John McCain \"by vo...</td>\n",
       "      <td>foreign-policy</td>\n",
       "      <td>barack-obama</td>\n",
       "      <td>democrat</td>\n",
       "      <td>70</td>\n",
       "      <td>71</td>\n",
       "      <td>160</td>\n",
       "      <td>163</td>\n",
       "      <td>9</td>\n",
       "      <td>Denver</td>\n",
       "      <td>Obama said he would have voted against the ame...</td>\n",
       "      <td>4</td>\n",
       "      <td>2</td>\n",
       "    </tr>\n",
       "    <tr>\n",
       "      <th>3</th>\n",
       "      <td>false</td>\n",
       "      <td>Health care reform legislation is likely to ma...</td>\n",
       "      <td>health-care</td>\n",
       "      <td>blog-posting</td>\n",
       "      <td>none</td>\n",
       "      <td>7</td>\n",
       "      <td>19</td>\n",
       "      <td>3</td>\n",
       "      <td>5</td>\n",
       "      <td>44</td>\n",
       "      <td>a news release</td>\n",
       "      <td>The release may have a point that Mikulskis co...</td>\n",
       "      <td>1</td>\n",
       "      <td>0</td>\n",
       "    </tr>\n",
       "    <tr>\n",
       "      <th>4</th>\n",
       "      <td>half-true</td>\n",
       "      <td>The economic turnaround started at the end of ...</td>\n",
       "      <td>economy,jobs</td>\n",
       "      <td>charlie-crist</td>\n",
       "      <td>democrat</td>\n",
       "      <td>15</td>\n",
       "      <td>9</td>\n",
       "      <td>20</td>\n",
       "      <td>19</td>\n",
       "      <td>2</td>\n",
       "      <td>an interview on CNN</td>\n",
       "      <td>Crist said that the economic \"turnaround start...</td>\n",
       "      <td>3</td>\n",
       "      <td>2</td>\n",
       "    </tr>\n",
       "  </tbody>\n",
       "</table>\n",
       "</div>"
      ],
      "text/plain": [
       "         label                                          statement  \\\n",
       "0                                                                   \n",
       "0        false  Says the Annies List political group supports ...   \n",
       "1    half-true  When did the decline of coal start? It started...   \n",
       "2  mostly-true  Hillary Clinton agrees with John McCain \"by vo...   \n",
       "3        false  Health care reform legislation is likely to ma...   \n",
       "4    half-true  The economic turnaround started at the end of ...   \n",
       "\n",
       "                              subject         speaker       party  bt   f  \\\n",
       "0                                                                           \n",
       "0                            abortion    dwayne-bohac  republican   0   1   \n",
       "1  energy,history,job-accomplishments  scott-surovell    democrat   0   0   \n",
       "2                      foreign-policy    barack-obama    democrat  70  71   \n",
       "3                         health-care    blog-posting        none   7  19   \n",
       "4                        economy,jobs   charlie-crist    democrat  15   9   \n",
       "\n",
       "    ht   mt  pof              context  \\\n",
       "0                                       \n",
       "0    0    0    0             a mailer   \n",
       "1    1    1    0      a floor speech.   \n",
       "2  160  163    9               Denver   \n",
       "3    3    5   44       a news release   \n",
       "4   20   19    2  an interview on CNN   \n",
       "\n",
       "                                       justification  new_labels  parties  \n",
       "0                                                                          \n",
       "0  That's a premise that he fails to back up. Ann...           1        1  \n",
       "1  Surovell said the decline of coal \"started whe...           3        2  \n",
       "2  Obama said he would have voted against the ame...           4        2  \n",
       "3  The release may have a point that Mikulskis co...           1        0  \n",
       "4  Crist said that the economic \"turnaround start...           3        2  "
      ]
     },
     "execution_count": 78,
     "metadata": {},
     "output_type": "execute_result"
    }
   ],
   "source": [
    "all_data['parties'] =all_data['party'].apply(lambda x: party_estimator(x))\n",
    "all_data.head()"
   ]
  },
  {
   "cell_type": "code",
   "execution_count": 81,
   "metadata": {},
   "outputs": [
    {
     "name": "stdout",
     "output_type": "stream",
     "text": [
      "(12789, 7)\n"
     ]
    },
    {
     "data": {
      "text/html": [
       "<div>\n",
       "<style scoped>\n",
       "    .dataframe tbody tr th:only-of-type {\n",
       "        vertical-align: middle;\n",
       "    }\n",
       "\n",
       "    .dataframe tbody tr th {\n",
       "        vertical-align: top;\n",
       "    }\n",
       "\n",
       "    .dataframe thead th {\n",
       "        text-align: right;\n",
       "    }\n",
       "</style>\n",
       "<table border=\"1\" class=\"dataframe\">\n",
       "  <thead>\n",
       "    <tr style=\"text-align: right;\">\n",
       "      <th></th>\n",
       "      <th>label</th>\n",
       "      <th>pants-fire</th>\n",
       "      <th>false</th>\n",
       "      <th>bt</th>\n",
       "      <th>ht</th>\n",
       "      <th>mt</th>\n",
       "      <th>parties</th>\n",
       "    </tr>\n",
       "    <tr>\n",
       "      <th>0</th>\n",
       "      <th></th>\n",
       "      <th></th>\n",
       "      <th></th>\n",
       "      <th></th>\n",
       "      <th></th>\n",
       "      <th></th>\n",
       "      <th></th>\n",
       "    </tr>\n",
       "  </thead>\n",
       "  <tbody>\n",
       "    <tr>\n",
       "      <th>0</th>\n",
       "      <td>1</td>\n",
       "      <td>0</td>\n",
       "      <td>1</td>\n",
       "      <td>0</td>\n",
       "      <td>0</td>\n",
       "      <td>0</td>\n",
       "      <td>1</td>\n",
       "    </tr>\n",
       "    <tr>\n",
       "      <th>1</th>\n",
       "      <td>3</td>\n",
       "      <td>0</td>\n",
       "      <td>0</td>\n",
       "      <td>0</td>\n",
       "      <td>1</td>\n",
       "      <td>1</td>\n",
       "      <td>2</td>\n",
       "    </tr>\n",
       "    <tr>\n",
       "      <th>2</th>\n",
       "      <td>4</td>\n",
       "      <td>9</td>\n",
       "      <td>71</td>\n",
       "      <td>70</td>\n",
       "      <td>160</td>\n",
       "      <td>163</td>\n",
       "      <td>2</td>\n",
       "    </tr>\n",
       "    <tr>\n",
       "      <th>3</th>\n",
       "      <td>1</td>\n",
       "      <td>44</td>\n",
       "      <td>19</td>\n",
       "      <td>7</td>\n",
       "      <td>3</td>\n",
       "      <td>5</td>\n",
       "      <td>0</td>\n",
       "    </tr>\n",
       "    <tr>\n",
       "      <th>4</th>\n",
       "      <td>3</td>\n",
       "      <td>2</td>\n",
       "      <td>9</td>\n",
       "      <td>15</td>\n",
       "      <td>20</td>\n",
       "      <td>19</td>\n",
       "      <td>2</td>\n",
       "    </tr>\n",
       "  </tbody>\n",
       "</table>\n",
       "</div>"
      ],
      "text/plain": [
       "   label  pants-fire  false  bt   ht   mt  parties\n",
       "0                                                 \n",
       "0      1           0      1   0    0    0        1\n",
       "1      3           0      0   0    1    1        2\n",
       "2      4           9     71  70  160  163        2\n",
       "3      1          44     19   7    3    5        0\n",
       "4      3           2      9  15   20   19        2"
      ]
     },
     "execution_count": 81,
     "metadata": {},
     "output_type": "execute_result"
    }
   ],
   "source": [
    "data = {'label': all_data['new_labels'], 'pants-fire': all_data['pof'], \n",
    "        'false':all_data['f'], 'bt':all_data['bt'], 'ht':all_data['ht'], \n",
    "        'mt':all_data['mt'], 'parties':all_data['parties']\n",
    "       }\n",
    "\n",
    "metadata = pd.DataFrame(data)\n",
    "print(metadata.shape)\n",
    "metadata.head()"
   ]
  },
  {
   "cell_type": "code",
   "execution_count": 84,
   "metadata": {},
   "outputs": [],
   "source": [
    "X_train = metadata[:train.shape[0]]\n",
    "X_val = metadata[train.shape[0]:train.shape[0]+val.shape[0]]\n",
    "X_test = metadata[train.shape[0]+val.shape[0]:]"
   ]
  },
  {
   "cell_type": "code",
   "execution_count": 87,
   "metadata": {},
   "outputs": [],
   "source": [
    "X_train_new = X_train.drop(\"label\", axis=1)\n",
    "# Y_train_new = X_train.drop[\"label\"]"
   ]
  },
  {
   "cell_type": "code",
   "execution_count": 89,
   "metadata": {},
   "outputs": [
    {
     "data": {
      "text/html": [
       "<div>\n",
       "<style scoped>\n",
       "    .dataframe tbody tr th:only-of-type {\n",
       "        vertical-align: middle;\n",
       "    }\n",
       "\n",
       "    .dataframe tbody tr th {\n",
       "        vertical-align: top;\n",
       "    }\n",
       "\n",
       "    .dataframe thead th {\n",
       "        text-align: right;\n",
       "    }\n",
       "</style>\n",
       "<table border=\"1\" class=\"dataframe\">\n",
       "  <thead>\n",
       "    <tr style=\"text-align: right;\">\n",
       "      <th></th>\n",
       "      <th>pants-fire</th>\n",
       "      <th>false</th>\n",
       "      <th>bt</th>\n",
       "      <th>ht</th>\n",
       "      <th>mt</th>\n",
       "      <th>parties</th>\n",
       "    </tr>\n",
       "    <tr>\n",
       "      <th>0</th>\n",
       "      <th></th>\n",
       "      <th></th>\n",
       "      <th></th>\n",
       "      <th></th>\n",
       "      <th></th>\n",
       "      <th></th>\n",
       "    </tr>\n",
       "  </thead>\n",
       "  <tbody>\n",
       "    <tr>\n",
       "      <th>0</th>\n",
       "      <td>0</td>\n",
       "      <td>1</td>\n",
       "      <td>0</td>\n",
       "      <td>0</td>\n",
       "      <td>0</td>\n",
       "      <td>1</td>\n",
       "    </tr>\n",
       "    <tr>\n",
       "      <th>1</th>\n",
       "      <td>0</td>\n",
       "      <td>0</td>\n",
       "      <td>0</td>\n",
       "      <td>1</td>\n",
       "      <td>1</td>\n",
       "      <td>2</td>\n",
       "    </tr>\n",
       "    <tr>\n",
       "      <th>2</th>\n",
       "      <td>9</td>\n",
       "      <td>71</td>\n",
       "      <td>70</td>\n",
       "      <td>160</td>\n",
       "      <td>163</td>\n",
       "      <td>2</td>\n",
       "    </tr>\n",
       "    <tr>\n",
       "      <th>3</th>\n",
       "      <td>44</td>\n",
       "      <td>19</td>\n",
       "      <td>7</td>\n",
       "      <td>3</td>\n",
       "      <td>5</td>\n",
       "      <td>0</td>\n",
       "    </tr>\n",
       "    <tr>\n",
       "      <th>4</th>\n",
       "      <td>2</td>\n",
       "      <td>9</td>\n",
       "      <td>15</td>\n",
       "      <td>20</td>\n",
       "      <td>19</td>\n",
       "      <td>2</td>\n",
       "    </tr>\n",
       "  </tbody>\n",
       "</table>\n",
       "</div>"
      ],
      "text/plain": [
       "   pants-fire  false  bt   ht   mt  parties\n",
       "0                                          \n",
       "0           0      1   0    0    0        1\n",
       "1           0      0   0    1    1        2\n",
       "2           9     71  70  160  163        2\n",
       "3          44     19   7    3    5        0\n",
       "4           2      9  15   20   19        2"
      ]
     },
     "execution_count": 89,
     "metadata": {},
     "output_type": "execute_result"
    }
   ],
   "source": [
    "X_train_new.head()"
   ]
  },
  {
   "cell_type": "code",
   "execution_count": 90,
   "metadata": {},
   "outputs": [
    {
     "name": "stderr",
     "output_type": "stream",
     "text": [
      "/home/akash/anaconda3/lib/python3.7/site-packages/sklearn/linear_model/logistic.py:432: FutureWarning: Default solver will be changed to 'lbfgs' in 0.22. Specify a solver to silence this warning.\n",
      "  FutureWarning)\n"
     ]
    },
    {
     "data": {
      "text/plain": [
       "LogisticRegression(C=1.0, class_weight=None, dual=False, fit_intercept=True,\n",
       "                   intercept_scaling=1, l1_ratio=None, max_iter=100,\n",
       "                   multi_class='warn', n_jobs=None, penalty='l2',\n",
       "                   random_state=None, solver='warn', tol=0.0001, verbose=0,\n",
       "                   warm_start=False)"
      ]
     },
     "execution_count": 90,
     "metadata": {},
     "output_type": "execute_result"
    }
   ],
   "source": [
    "lr = LogisticRegression()\n",
    "lr.fit(X_train_new, Y_train_bi)\n",
    "\n"
   ]
  },
  {
   "cell_type": "code",
   "execution_count": null,
   "metadata": {},
   "outputs": [],
   "source": []
  },
  {
   "cell_type": "code",
   "execution_count": 91,
   "metadata": {},
   "outputs": [
    {
     "data": {
      "text/plain": [
       "barack-obama                                   611\n",
       "donald-trump                                   343\n",
       "hillary-clinton                                297\n",
       "mitt-romney                                    212\n",
       "john-mccain                                    189\n",
       "scott-walker                                   183\n",
       "chain-email                                    178\n",
       "rick-perry                                     173\n",
       "marco-rubio                                    153\n",
       "rick-scott                                     150\n",
       "ted-cruz                                       118\n",
       "bernie-s                                       106\n",
       "chris-christie                                 104\n",
       "facebook-posts                                 100\n",
       "charlie-crist                                   90\n",
       "newt-gingrich                                   83\n",
       "blog-posting                                    81\n",
       "jeb-bush                                        79\n",
       "joe-biden                                       76\n",
       "paul-ryan                                       70\n",
       "john-boehner                                    68\n",
       "john-kasich                                     67\n",
       "sarah-palin                                     66\n",
       "michele-bachmann                                61\n",
       "rick-santorum                                   59\n",
       "tim-kaine                                       54\n",
       "nathan-deal                                     52\n",
       "national-republican-congressional-committee     52\n",
       "rand-paul                                       52\n",
       "debbie-wasserman-schultz                        47\n",
       "                                              ... \n",
       "protect-families-first                           1\n",
       "ilyse-hogue                                      1\n",
       "barbara-cargill                                  1\n",
       "joseph-henchman                                  1\n",
       "gayle-atteberry                                  1\n",
       "mark-hinkle                                      1\n",
       "rick-allen                                       1\n",
       "nationwide                                       1\n",
       "brian-stelter                                    1\n",
       "karen-bass                                       1\n",
       "tim-cook                                         1\n",
       "atlanta-sports-council                           1\n",
       "lynda-rife                                       1\n",
       "ann-lininger                                     1\n",
       "brian-deese                                      1\n",
       "protect-your-vote                                1\n",
       "virginia-education-association                   1\n",
       "mark-johnson                                     1\n",
       "evan-goyke                                       1\n",
       "morgan-carroll                                   1\n",
       "bob-terry                                        1\n",
       "markos-moulitsas                                 1\n",
       "jeff-mullis                                      1\n",
       "corn-commentary                                  1\n",
       "jonathan-steitz                                  1\n",
       "ben-cannon                                       1\n",
       "jack-bogdanski                                   1\n",
       "keep-austin-healthy-pac                          1\n",
       "iowans-some-semblance-christian-decency          1\n",
       "florida-first-project                            1\n",
       "Name: speaker, Length: 3309, dtype: int64"
      ]
     },
     "execution_count": 91,
     "metadata": {},
     "output_type": "execute_result"
    }
   ],
   "source": [
    "# Counter(all_data['speaker'])\n",
    "all_data['speaker'].value_counts()"
   ]
  },
  {
   "cell_type": "code",
   "execution_count": null,
   "metadata": {},
   "outputs": [],
   "source": []
  }
 ],
 "metadata": {
  "kernelspec": {
   "display_name": "Python 3",
   "language": "python",
   "name": "python3"
  },
  "language_info": {
   "codemirror_mode": {
    "name": "ipython",
    "version": 3
   },
   "file_extension": ".py",
   "mimetype": "text/x-python",
   "name": "python",
   "nbconvert_exporter": "python",
   "pygments_lexer": "ipython3",
   "version": "3.7.3"
  }
 },
 "nbformat": 4,
 "nbformat_minor": 2
}
