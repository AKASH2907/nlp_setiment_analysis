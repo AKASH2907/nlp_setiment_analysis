{
 "cells": [
  {
   "cell_type": "code",
   "execution_count": 1,
   "metadata": {},
   "outputs": [
    {
     "name": "stderr",
     "output_type": "stream",
     "text": [
      "Using TensorFlow backend.\n"
     ]
    }
   ],
   "source": [
    "import numpy as np\n",
    "import matplotlib.pyplot as plt\n",
    "%matplotlib inline\n",
    "import pandas as pd\n",
    "import seaborn as sns\n",
    "import nltk\n",
    "from nltk.corpus import stopwords\n",
    "\n",
    "# Algorithms\n",
    "from keras.layers import Flatten,LSTM,Conv1D,Dropout,Bidirectional, GRU, RNN, Concatenate\n",
    "from keras.utils import plot_model, np_utils\n",
    "# from keras.utils.vis_utils import model_to_dot\n",
    "# from keras.models import load_model\n",
    "# from keras.callbacks import TensorBoard, CSVLogger\n",
    "# import keras.backend as K\n",
    "\n",
    "# from sklearn.metrics import accuracy_score, f1_score, confusion_matrix\n",
    "# from gensim.models.word2vec import Word2Vec\n",
    "\n"
   ]
  },
  {
   "cell_type": "code",
   "execution_count": 2,
   "metadata": {},
   "outputs": [
    {
     "name": "stderr",
     "output_type": "stream",
     "text": [
      "[nltk_data] Downloading package stopwords to /home/akash/nltk_data...\n",
      "[nltk_data]   Package stopwords is already up-to-date!\n"
     ]
    },
    {
     "data": {
      "text/plain": [
       "True"
      ]
     },
     "execution_count": 2,
     "metadata": {},
     "output_type": "execute_result"
    }
   ],
   "source": [
    "nltk.download('stopwords')\n",
    "# nlp = spacy.load('en')"
   ]
  },
  {
   "cell_type": "code",
   "execution_count": 3,
   "metadata": {},
   "outputs": [],
   "source": [
    "# !python -m spacy download en\n",
    "import pandas as pd\n",
    "import numpy as np\n",
    "import re\n",
    "import nltk\n",
    "from nltk.corpus import stopwords\n",
    "\n",
    "from numpy import array\n",
    "from keras.preprocessing.text import one_hot\n",
    "from keras.preprocessing.sequence import pad_sequences\n",
    "from keras.models import Sequential\n",
    "from keras.layers.core import Activation, Dropout, Dense\n",
    "from keras.layers import Input\n",
    "from keras.models import Model\n",
    "from keras.layers import Flatten, Conv1D, RNN, LSTM, GlobalAveragePooling1D, Dense\n",
    "from keras.layers import GlobalMaxPooling1D\n",
    "from keras.layers.embeddings import Embedding\n",
    "from sklearn.model_selection import train_test_split\n",
    "from keras.preprocessing.text import Tokenizer"
   ]
  },
  {
   "cell_type": "code",
   "execution_count": 4,
   "metadata": {},
   "outputs": [
    {
     "name": "stdout",
     "output_type": "stream",
     "text": [
      "(10238, 12)\n",
      "(1284, 12)\n",
      "(1267, 12)\n"
     ]
    }
   ],
   "source": [
    "datapath = './dataset/'\n",
    "\n",
    "\n",
    "train = pd.read_csv(datapath + 'train.tsv', header=None, index_col=0, delimiter='\\t')\n",
    "val = pd.read_csv(datapath + 'val.tsv', header=None, index_col=0, delimiter='\\t')\n",
    "test = pd.read_csv(datapath + 'test.tsv', header=None, index_col=0, delimiter='\\t')\n",
    "\n",
    "train.head()\n",
    "\n",
    "train.columns = ['ID', 'label', 'statement', 'subject', 'speaker', 'job title', \n",
    "                 'state info', 'party', 'bt', 'f', 'ht', 'mt', 'pof', 'context', \n",
    "                 'justification']\n",
    "\n",
    "val.columns = ['ID', 'label', 'statement', 'subject', 'speaker', 'job title', \n",
    "                 'state info', 'party', 'bt', 'f', 'ht', 'mt', 'pof', 'context', \n",
    "                 'justification']\n",
    "\n",
    "test.columns = ['ID', 'label', 'statement', 'subject', 'speaker', 'job title', \n",
    "                 'state info', 'party', 'bt', 'f', 'ht', 'mt', 'pof', 'context', \n",
    "                 'justification']\n",
    "\n",
    "\n",
    "train.drop(['ID','job title', 'state info'], axis=1, inplace=True)\n",
    "val.drop(['ID','job title', 'state info'], axis=1, inplace=True)\n",
    "test.drop(['ID','job title', 'state info'], axis=1, inplace=True)\n",
    "train.drop([2142, 9375], axis=0, inplace=True)\n",
    "\n",
    "train['justification'] = train['justification'].fillna(\"no_text\")\n",
    "val['justification'] = val['justification'].fillna(\"no_text\")\n",
    "test['justification'] = test['justification'].fillna(\"no_text\")\n",
    "\n",
    "print(train.shape)\n",
    "print(val.shape)\n",
    "print(test.shape)"
   ]
  },
  {
   "cell_type": "code",
   "execution_count": 5,
   "metadata": {},
   "outputs": [
    {
     "name": "stdout",
     "output_type": "stream",
     "text": [
      "(12789, 12)\n"
     ]
    },
    {
     "data": {
      "text/html": [
       "<div>\n",
       "<style scoped>\n",
       "    .dataframe tbody tr th:only-of-type {\n",
       "        vertical-align: middle;\n",
       "    }\n",
       "\n",
       "    .dataframe tbody tr th {\n",
       "        vertical-align: top;\n",
       "    }\n",
       "\n",
       "    .dataframe thead th {\n",
       "        text-align: right;\n",
       "    }\n",
       "</style>\n",
       "<table border=\"1\" class=\"dataframe\">\n",
       "  <thead>\n",
       "    <tr style=\"text-align: right;\">\n",
       "      <th></th>\n",
       "      <th>label</th>\n",
       "      <th>statement</th>\n",
       "      <th>subject</th>\n",
       "      <th>speaker</th>\n",
       "      <th>party</th>\n",
       "      <th>bt</th>\n",
       "      <th>f</th>\n",
       "      <th>ht</th>\n",
       "      <th>mt</th>\n",
       "      <th>pof</th>\n",
       "      <th>context</th>\n",
       "      <th>justification</th>\n",
       "    </tr>\n",
       "    <tr>\n",
       "      <th>0</th>\n",
       "      <th></th>\n",
       "      <th></th>\n",
       "      <th></th>\n",
       "      <th></th>\n",
       "      <th></th>\n",
       "      <th></th>\n",
       "      <th></th>\n",
       "      <th></th>\n",
       "      <th></th>\n",
       "      <th></th>\n",
       "      <th></th>\n",
       "      <th></th>\n",
       "    </tr>\n",
       "  </thead>\n",
       "  <tbody>\n",
       "    <tr>\n",
       "      <th>0</th>\n",
       "      <td>false</td>\n",
       "      <td>Says the Annies List political group supports ...</td>\n",
       "      <td>abortion</td>\n",
       "      <td>dwayne-bohac</td>\n",
       "      <td>republican</td>\n",
       "      <td>0.0</td>\n",
       "      <td>1.0</td>\n",
       "      <td>0.0</td>\n",
       "      <td>0.0</td>\n",
       "      <td>0.0</td>\n",
       "      <td>a mailer</td>\n",
       "      <td>That's a premise that he fails to back up. Ann...</td>\n",
       "    </tr>\n",
       "    <tr>\n",
       "      <th>1</th>\n",
       "      <td>half-true</td>\n",
       "      <td>When did the decline of coal start? It started...</td>\n",
       "      <td>energy,history,job-accomplishments</td>\n",
       "      <td>scott-surovell</td>\n",
       "      <td>democrat</td>\n",
       "      <td>0.0</td>\n",
       "      <td>0.0</td>\n",
       "      <td>1.0</td>\n",
       "      <td>1.0</td>\n",
       "      <td>0.0</td>\n",
       "      <td>a floor speech.</td>\n",
       "      <td>Surovell said the decline of coal \"started whe...</td>\n",
       "    </tr>\n",
       "    <tr>\n",
       "      <th>2</th>\n",
       "      <td>mostly-true</td>\n",
       "      <td>Hillary Clinton agrees with John McCain \"by vo...</td>\n",
       "      <td>foreign-policy</td>\n",
       "      <td>barack-obama</td>\n",
       "      <td>democrat</td>\n",
       "      <td>70.0</td>\n",
       "      <td>71.0</td>\n",
       "      <td>160.0</td>\n",
       "      <td>163.0</td>\n",
       "      <td>9.0</td>\n",
       "      <td>Denver</td>\n",
       "      <td>Obama said he would have voted against the ame...</td>\n",
       "    </tr>\n",
       "    <tr>\n",
       "      <th>3</th>\n",
       "      <td>false</td>\n",
       "      <td>Health care reform legislation is likely to ma...</td>\n",
       "      <td>health-care</td>\n",
       "      <td>blog-posting</td>\n",
       "      <td>none</td>\n",
       "      <td>7.0</td>\n",
       "      <td>19.0</td>\n",
       "      <td>3.0</td>\n",
       "      <td>5.0</td>\n",
       "      <td>44.0</td>\n",
       "      <td>a news release</td>\n",
       "      <td>The release may have a point that Mikulskis co...</td>\n",
       "    </tr>\n",
       "    <tr>\n",
       "      <th>4</th>\n",
       "      <td>half-true</td>\n",
       "      <td>The economic turnaround started at the end of ...</td>\n",
       "      <td>economy,jobs</td>\n",
       "      <td>charlie-crist</td>\n",
       "      <td>democrat</td>\n",
       "      <td>15.0</td>\n",
       "      <td>9.0</td>\n",
       "      <td>20.0</td>\n",
       "      <td>19.0</td>\n",
       "      <td>2.0</td>\n",
       "      <td>an interview on CNN</td>\n",
       "      <td>Crist said that the economic \"turnaround start...</td>\n",
       "    </tr>\n",
       "  </tbody>\n",
       "</table>\n",
       "</div>"
      ],
      "text/plain": [
       "         label                                          statement  \\\n",
       "0                                                                   \n",
       "0        false  Says the Annies List political group supports ...   \n",
       "1    half-true  When did the decline of coal start? It started...   \n",
       "2  mostly-true  Hillary Clinton agrees with John McCain \"by vo...   \n",
       "3        false  Health care reform legislation is likely to ma...   \n",
       "4    half-true  The economic turnaround started at the end of ...   \n",
       "\n",
       "                              subject         speaker       party    bt     f  \\\n",
       "0                                                                               \n",
       "0                            abortion    dwayne-bohac  republican   0.0   1.0   \n",
       "1  energy,history,job-accomplishments  scott-surovell    democrat   0.0   0.0   \n",
       "2                      foreign-policy    barack-obama    democrat  70.0  71.0   \n",
       "3                         health-care    blog-posting        none   7.0  19.0   \n",
       "4                        economy,jobs   charlie-crist    democrat  15.0   9.0   \n",
       "\n",
       "      ht     mt   pof              context  \\\n",
       "0                                            \n",
       "0    0.0    0.0   0.0             a mailer   \n",
       "1    1.0    1.0   0.0      a floor speech.   \n",
       "2  160.0  163.0   9.0               Denver   \n",
       "3    3.0    5.0  44.0       a news release   \n",
       "4   20.0   19.0   2.0  an interview on CNN   \n",
       "\n",
       "                                       justification  \n",
       "0                                                     \n",
       "0  That's a premise that he fails to back up. Ann...  \n",
       "1  Surovell said the decline of coal \"started whe...  \n",
       "2  Obama said he would have voted against the ame...  \n",
       "3  The release may have a point that Mikulskis co...  \n",
       "4  Crist said that the economic \"turnaround start...  "
      ]
     },
     "execution_count": 5,
     "metadata": {},
     "output_type": "execute_result"
    }
   ],
   "source": [
    "import re\n",
    "\n",
    "all_data = pd.concat([train, val, test], ignore_index=False)\n",
    "# print(all_data.head())\n",
    "print(all_data.shape)\n",
    "all_data.head()"
   ]
  },
  {
   "cell_type": "code",
   "execution_count": 6,
   "metadata": {},
   "outputs": [
    {
     "name": "stdout",
     "output_type": "stream",
     "text": [
      "12789\n",
      "12789\n"
     ]
    }
   ],
   "source": [
    "all_statements = []\n",
    "all_justifications = []\n",
    "\n",
    "\n",
    "for i in all_data['statement']:\n",
    "    all_statements.append(i)\n",
    "\n",
    "for line in all_data['justification']:\n",
    "    all_justifications.append(line)\n",
    "\n",
    "print(len(all_statements))\n",
    "print(len(all_justifications))\n",
    "\n",
    "REPLACE_NO_SPACE = re.compile(\"(\\.)|(\\;)|(\\:)|(\\!)|(\\')|(\\?)|(\\,)|(\\\")|(\\()|(\\))|(\\[)|(\\])|(\\d+)\")\n",
    "REPLACE_WITH_SPACE = re.compile(\"(<br\\s*/><br\\s*/>)|(\\-)|(\\/)\")\n",
    "NO_SPACE = \"\"\n",
    "SPACE = \" \"\n",
    "\n",
    "def preprocess_reviews(reviews):\n",
    "    \n",
    "    reviews = [REPLACE_NO_SPACE.sub(NO_SPACE, line.lower()) for line in reviews]\n",
    "    reviews = [REPLACE_WITH_SPACE.sub(SPACE, line) for line in reviews]\n",
    "    \n",
    "    return reviews\n",
    "\n",
    "statements_clean = preprocess_reviews(all_statements)\n",
    "justifications_clean = preprocess_reviews(all_justifications)"
   ]
  },
  {
   "cell_type": "code",
   "execution_count": 7,
   "metadata": {},
   "outputs": [
    {
     "name": "stdout",
     "output_type": "stream",
     "text": [
      "['false' 'half-true' 'mostly-true' 'true' 'barely-true' 'pants-fire']\n",
      "12789 12789\n"
     ]
    }
   ],
   "source": [
    "print(all_data.label.unique())\n",
    "Y_binary = []\n",
    "# all_data.label.unique().tolist()\n",
    "for i in all_data['label']:\n",
    "    if i=='false' or i=='barely-true' or i=='pants-fire':\n",
    "        Y_binary+=[0]\n",
    "    else:\n",
    "        Y_binary+=[1]\n",
    "\n",
    "Y_six = []\n",
    "\n",
    "for i in all_data['label']:\n",
    "    if i =='pants-fire':\n",
    "        Y_six+=[0]\n",
    "    elif i=='false':\n",
    "        Y_six+=[1]\n",
    "    elif i=='barely-true':\n",
    "        Y_six+=[2]\n",
    "    elif i=='half-true':\n",
    "        Y_six+=[3]\n",
    "    elif i=='mostly-true':\n",
    "        Y_six+=[4]\n",
    "    else:\n",
    "        Y_six+=[5]\n",
    "        \n",
    "# train.label.unique()\n",
    "print(len(Y_binary), len(Y_six))"
   ]
  },
  {
   "cell_type": "code",
   "execution_count": 8,
   "metadata": {},
   "outputs": [
    {
     "name": "stdout",
     "output_type": "stream",
     "text": [
      "10238 1284 1267\n"
     ]
    }
   ],
   "source": [
    "X_train = statements_clean[:train.shape[0]]\n",
    "X_val = statements_clean[train.shape[0]:train.shape[0]+val.shape[0]]\n",
    "X_test = statements_clean[train.shape[0]+val.shape[0]:]\n",
    "print(len(X_train), len(X_val), len(X_test))\n",
    "\n",
    "X_trainj = justifications_clean[:train.shape[0]]\n",
    "X_valj = justifications_clean[train.shape[0]:train.shape[0]+val.shape[0]]\n",
    "X_testj = justifications_clean[train.shape[0]+val.shape[0]:]\n",
    "\n",
    "Y_train_bi = Y_binary[:train.shape[0]]\n",
    "Y_val_bi = Y_binary[train.shape[0]:train.shape[0]+val.shape[0]]\n",
    "Y_test_bi = Y_binary[train.shape[0]+val.shape[0]:]\n",
    "\n",
    "Y_train_six = Y_six[:train.shape[0]]\n",
    "Y_val_six = Y_six[train.shape[0]:train.shape[0]+val.shape[0]]\n",
    "Y_test_six = Y_six[train.shape[0]+val.shape[0]:]"
   ]
  },
  {
   "cell_type": "code",
   "execution_count": 9,
   "metadata": {},
   "outputs": [],
   "source": [
    "freq_words_state=4000\n",
    "\n",
    "tokenizer_state = Tokenizer(num_words=freq_words_state)\n",
    "tokenizer_state.fit_on_texts(X_train)\n",
    "\n",
    "X_train = tokenizer_state.texts_to_sequences(X_train)\n",
    "X_val = tokenizer_state.texts_to_sequences(X_val)\n",
    "X_test = tokenizer_state.texts_to_sequences(X_test)"
   ]
  },
  {
   "cell_type": "code",
   "execution_count": 10,
   "metadata": {},
   "outputs": [],
   "source": [
    "freq_words_justify=6000\n",
    "\n",
    "tokenizer_justify = Tokenizer(num_words=freq_words_justify)\n",
    "tokenizer_justify.fit_on_texts(X_trainj)\n",
    "\n",
    "X_trainj = tokenizer_justify.texts_to_sequences(X_trainj)\n",
    "X_valj = tokenizer_justify.texts_to_sequences(X_valj)\n",
    "X_testj = tokenizer_justify.texts_to_sequences(X_testj)"
   ]
  },
  {
   "cell_type": "code",
   "execution_count": 11,
   "metadata": {},
   "outputs": [
    {
     "name": "stdout",
     "output_type": "stream",
     "text": [
      "11762\n"
     ]
    }
   ],
   "source": [
    "vocab_size_state = len(tokenizer_state.word_index) + 1\n",
    "print(vocab_size_state)\n",
    "maxlen_s = 100\n",
    "\n",
    "X_train = pad_sequences(X_train, maxlen=maxlen_s, padding='post')\n",
    "X_val = pad_sequences(X_val, maxlen=maxlen_s, padding='post')\n",
    "X_test = pad_sequences(X_test, maxlen=maxlen_s, padding='post')"
   ]
  },
  {
   "cell_type": "code",
   "execution_count": 12,
   "metadata": {},
   "outputs": [
    {
     "name": "stdout",
     "output_type": "stream",
     "text": [
      "[  31   44  252  280   10  627    4  628  376  437  380 3940    0    0\n",
      "    0    0    0    0    0    0    0    0    0    0    0    0    0    0\n",
      "    0    0    0    0    0    0    0    0    0    0    0    0    0    0\n",
      "    0    0    0    0    0    0    0    0    0    0    0    0    0    0\n",
      "    0    0    0    0    0    0    0    0    0    0    0    0    0    0\n",
      "    0    0    0    0    0    0    0    0    0    0    0    0    0    0\n",
      "    0    0    0    0    0    0    0    0    0    0    0    0    0    0\n",
      "    0    0]\n"
     ]
    }
   ],
   "source": [
    "print(X_train[3])"
   ]
  },
  {
   "cell_type": "code",
   "execution_count": 13,
   "metadata": {},
   "outputs": [
    {
     "name": "stdout",
     "output_type": "stream",
     "text": [
      "22915\n"
     ]
    }
   ],
   "source": [
    "vocab_size_justify = len(tokenizer_justify.word_index) + 1\n",
    "print(vocab_size_justify)\n",
    "maxlen_j = 150\n",
    "\n",
    "X_trainj = pad_sequences(X_trainj, maxlen=maxlen_j, padding='post')\n",
    "X_valj = pad_sequences(X_valj, maxlen=maxlen_j, padding='post')\n",
    "X_testj = pad_sequences(X_testj, maxlen=maxlen_j, padding='post')"
   ]
  },
  {
   "cell_type": "code",
   "execution_count": 14,
   "metadata": {},
   "outputs": [],
   "source": [
    "from numpy import array\n",
    "from numpy import asarray\n",
    "from numpy import zeros\n",
    "\n",
    "embeddings_dictionary = dict()\n",
    "glove_file = open('glove.6B.100d.txt', encoding=\"utf8\")\n",
    "\n",
    "for line in glove_file:\n",
    "    records = line.split()\n",
    "    word = records[0]\n",
    "    vector_dimensions = asarray(records[1:], dtype='float32')\n",
    "    embeddings_dictionary [word] = vector_dimensions\n",
    "glove_file.close()"
   ]
  },
  {
   "cell_type": "code",
   "execution_count": 15,
   "metadata": {},
   "outputs": [
    {
     "name": "stdout",
     "output_type": "stream",
     "text": [
      "(11762, 100)\n"
     ]
    }
   ],
   "source": [
    "embedding_matrix_s = zeros((vocab_size_state, 100))\n",
    "for word, index in tokenizer_state.word_index.items():\n",
    "    embedding_vector = embeddings_dictionary.get(word)\n",
    "    if embedding_vector is not None:\n",
    "        embedding_matrix_s[index] = embedding_vector\n",
    "    \n",
    "print(embedding_matrix_s.shape)"
   ]
  },
  {
   "cell_type": "code",
   "execution_count": 16,
   "metadata": {},
   "outputs": [
    {
     "name": "stdout",
     "output_type": "stream",
     "text": [
      "(22915, 100)\n"
     ]
    }
   ],
   "source": [
    "embedding_matrix_j = zeros((vocab_size_justify, 100))\n",
    "for word, index in tokenizer_justify.word_index.items():\n",
    "    embedding_vector = embeddings_dictionary.get(word)\n",
    "    if embedding_vector is not None:\n",
    "        embedding_matrix_j[index] = embedding_vector\n",
    "    \n",
    "print(embedding_matrix_j.shape)"
   ]
  },
  {
   "cell_type": "code",
   "execution_count": 17,
   "metadata": {},
   "outputs": [
    {
     "name": "stderr",
     "output_type": "stream",
     "text": [
      "WARNING: Logging before flag parsing goes to stderr.\n",
      "W0805 13:48:31.552715 140442425616192 deprecation_wrapper.py:119] From /home/akash/anaconda3/lib/python3.7/site-packages/keras/backend/tensorflow_backend.py:74: The name tf.get_default_graph is deprecated. Please use tf.compat.v1.get_default_graph instead.\n",
      "\n"
     ]
    },
    {
     "name": "stdout",
     "output_type": "stream",
     "text": [
      "<keras.layers.embeddings.Embedding object at 0x7fbafb6146d8>\n",
      "<keras.layers.embeddings.Embedding object at 0x7fbb4414e438>\n"
     ]
    }
   ],
   "source": [
    "embedding_layer_s = Embedding(vocab_size_state, 100, weights=[embedding_matrix_s],\n",
    "                              input_length=maxlen_s , trainable=False)\n",
    "print(embedding_layer_s)\n",
    "\n",
    "embedding_layer_j = Embedding(vocab_size_justify, 100, weights=[embedding_matrix_j],\n",
    "                              input_length=maxlen_j , trainable=False)\n",
    "print(embedding_layer_j)"
   ]
  },
  {
   "cell_type": "code",
   "execution_count": 18,
   "metadata": {},
   "outputs": [
    {
     "name": "stderr",
     "output_type": "stream",
     "text": [
      "W0805 13:48:31.644662 140442425616192 deprecation_wrapper.py:119] From /home/akash/anaconda3/lib/python3.7/site-packages/keras/backend/tensorflow_backend.py:517: The name tf.placeholder is deprecated. Please use tf.compat.v1.placeholder instead.\n",
      "\n",
      "W0805 13:48:31.648791 140442425616192 deprecation_wrapper.py:119] From /home/akash/anaconda3/lib/python3.7/site-packages/keras/backend/tensorflow_backend.py:4138: The name tf.random_uniform is deprecated. Please use tf.random.uniform instead.\n",
      "\n",
      "W0805 13:48:31.662241 140442425616192 deprecation_wrapper.py:119] From /home/akash/anaconda3/lib/python3.7/site-packages/keras/backend/tensorflow_backend.py:174: The name tf.get_default_session is deprecated. Please use tf.compat.v1.get_default_session instead.\n",
      "\n",
      "W0805 13:48:31.663477 140442425616192 deprecation_wrapper.py:119] From /home/akash/anaconda3/lib/python3.7/site-packages/keras/backend/tensorflow_backend.py:181: The name tf.ConfigProto is deprecated. Please use tf.compat.v1.ConfigProto instead.\n",
      "\n",
      "W0805 13:48:31.743899 140442425616192 deprecation_wrapper.py:119] From /home/akash/anaconda3/lib/python3.7/site-packages/keras/optimizers.py:790: The name tf.train.Optimizer is deprecated. Please use tf.compat.v1.train.Optimizer instead.\n",
      "\n",
      "W0805 13:48:31.762998 140442425616192 deprecation.py:323] From /home/akash/anaconda3/lib/python3.7/site-packages/tensorflow/python/ops/nn_impl.py:180: add_dispatch_support.<locals>.wrapper (from tensorflow.python.ops.array_ops) is deprecated and will be removed in a future version.\n",
      "Instructions for updating:\n",
      "Use tf.where in 2.0, which has the same broadcast rule as np.where\n"
     ]
    },
    {
     "name": "stdout",
     "output_type": "stream",
     "text": [
      "_________________________________________________________________\n",
      "Layer (type)                 Output Shape              Param #   \n",
      "=================================================================\n",
      "input_1 (InputLayer)         (None, 100)               0         \n",
      "_________________________________________________________________\n",
      "embedding_1 (Embedding)      (None, 100, 100)          1176200   \n",
      "_________________________________________________________________\n",
      "flatten_1 (Flatten)          (None, 10000)             0         \n",
      "_________________________________________________________________\n",
      "dense_1 (Dense)              (None, 1)                 10001     \n",
      "=================================================================\n",
      "Total params: 1,186,201\n",
      "Trainable params: 10,001\n",
      "Non-trainable params: 1,176,200\n",
      "_________________________________________________________________\n",
      "None\n"
     ]
    }
   ],
   "source": [
    "seq_input = Input(shape=(maxlen_s, ), dtype='int32')\n",
    "x = embedding_layer_s(seq_input)\n",
    "x = Flatten()(x)\n",
    "x = Dense(1, activation='sigmoid')(x)\n",
    "\n",
    "model = Model(inputs=seq_input, outputs=x)\n",
    "model.compile(optimizer='adam', loss='binary_crossentropy', metrics=['acc'])\n",
    "\n",
    "print(model.summary())"
   ]
  },
  {
   "cell_type": "code",
   "execution_count": 19,
   "metadata": {},
   "outputs": [
    {
     "name": "stdout",
     "output_type": "stream",
     "text": [
      "Train on 10238 samples, validate on 1284 samples\n",
      "Epoch 1/5\n",
      "10238/10238 [==============================] - 1s 65us/step - loss: 0.6771 - acc: 0.5766 - val_loss: 0.6696 - val_acc: 0.5654\n",
      "Epoch 2/5\n",
      "10238/10238 [==============================] - 0s 23us/step - loss: 0.6476 - acc: 0.6190 - val_loss: 0.6791 - val_acc: 0.5693\n",
      "Epoch 3/5\n",
      "10238/10238 [==============================] - 0s 21us/step - loss: 0.6268 - acc: 0.6454 - val_loss: 0.6712 - val_acc: 0.5864\n",
      "Epoch 4/5\n",
      "10238/10238 [==============================] - 0s 22us/step - loss: 0.6124 - acc: 0.6611 - val_loss: 0.6798 - val_acc: 0.5779\n",
      "Epoch 5/5\n",
      "10238/10238 [==============================] - 0s 25us/step - loss: 0.6040 - acc: 0.6728 - val_loss: 0.6730 - val_acc: 0.5974\n"
     ]
    }
   ],
   "source": [
    "history = model.fit(X_train, Y_train_bi, batch_size=128, epochs=5, verbose=1,\n",
    "                   validation_data=(X_val, Y_val_bi))"
   ]
  },
  {
   "cell_type": "code",
   "execution_count": 20,
   "metadata": {},
   "outputs": [
    {
     "name": "stdout",
     "output_type": "stream",
     "text": [
      "1284/1284 [==============================] - 0s 25us/step\n",
      "0.5973520249221184\n",
      "1267/1267 [==============================] - 0s 10us/step\n",
      "0.5793212313019769\n"
     ]
    }
   ],
   "source": [
    "loss,acc = model.evaluate(X_val, Y_val_bi, verbose=1)\n",
    "print(acc)\n",
    "loss,acc = model.evaluate(X_test, Y_test_bi, verbose=1)\n",
    "print(acc)"
   ]
  },
  {
   "cell_type": "code",
   "execution_count": 21,
   "metadata": {},
   "outputs": [
    {
     "name": "stdout",
     "output_type": "stream",
     "text": [
      "dict_keys(['val_loss', 'val_acc', 'loss', 'acc'])\n"
     ]
    }
   ],
   "source": [
    "print(history.history.keys())"
   ]
  },
  {
   "cell_type": "code",
   "execution_count": 22,
   "metadata": {},
   "outputs": [
    {
     "data": {
      "image/png": "[encoded data removed]",
      "text/plain": [
       "<Figure size 432x288 with 1 Axes>"
      ]
     },
     "metadata": {
      "needs_background": "light"
     },
     "output_type": "display_data"
    },
    {
     "data": {
      "image/png": "[encoded data removed]",
      "text/plain": [
       "<Figure size 432x288 with 1 Axes>"
      ]
     },
     "metadata": {
      "needs_background": "light"
     },
     "output_type": "display_data"
    }
   ],
   "source": [
    "plt.plot(history.history['acc'])\n",
    "plt.plot(history.history['val_acc'])\n",
    "\n",
    "plt.title('model accuracy')\n",
    "plt.ylabel('accuracy')\n",
    "plt.xlabel('epoch')\n",
    "plt.legend(['train','test'], loc='upper left')\n",
    "plt.show()\n",
    "\n",
    "plt.plot(history.history['loss'])\n",
    "plt.plot(history.history['val_loss'])\n",
    "\n",
    "plt.title('model loss')\n",
    "plt.ylabel('loss')\n",
    "plt.xlabel('epoch')\n",
    "plt.legend(['train','test'], loc='upper left')\n",
    "plt.show()"
   ]
  },
  {
   "cell_type": "code",
   "execution_count": 23,
   "metadata": {},
   "outputs": [
    {
     "name": "stdout",
     "output_type": "stream",
     "text": [
      "_________________________________________________________________\n",
      "Layer (type)                 Output Shape              Param #   \n",
      "=================================================================\n",
      "input_2 (InputLayer)         (None, 100)               0         \n",
      "_________________________________________________________________\n",
      "embedding_1 (Embedding)      (None, 100, 100)          1176200   \n",
      "_________________________________________________________________\n",
      "conv1d_1 (Conv1D)            (None, 96, 128)           64128     \n",
      "_________________________________________________________________\n",
      "global_max_pooling1d_1 (Glob (None, 128)               0         \n",
      "_________________________________________________________________\n",
      "dense_2 (Dense)              (None, 1)                 129       \n",
      "=================================================================\n",
      "Total params: 1,240,457\n",
      "Trainable params: 64,257\n",
      "Non-trainable params: 1,176,200\n",
      "_________________________________________________________________\n",
      "None\n"
     ]
    }
   ],
   "source": [
    "seq_input = Input(shape=(maxlen_s, ), dtype='int32')\n",
    "x = embedding_layer_s(seq_input)\n",
    "x = Conv1D(128, 5, activation='relu')(x)\n",
    "x = GlobalMaxPooling1D()(x)\n",
    "x = Dense(1, activation='sigmoid')(x)\n",
    "\n",
    "model = Model(inputs=seq_input, outputs=x)\n",
    "model.compile(optimizer='adam', loss='binary_crossentropy', metrics=['acc'])\n",
    "print(model.summary())\n"
   ]
  },
  {
   "cell_type": "code",
   "execution_count": 24,
   "metadata": {},
   "outputs": [
    {
     "name": "stdout",
     "output_type": "stream",
     "text": [
      "Train on 10238 samples, validate on 1284 samples\n",
      "Epoch 1/5\n",
      "10238/10238 [==============================] - 3s 323us/step - loss: 0.6757 - acc: 0.5788 - val_loss: 0.6781 - val_acc: 0.5763\n",
      "Epoch 2/5\n",
      "10238/10238 [==============================] - 2s 237us/step - loss: 0.6085 - acc: 0.6767 - val_loss: 0.6611 - val_acc: 0.6059\n",
      "Epoch 3/5\n",
      "10238/10238 [==============================] - 2s 227us/step - loss: 0.5663 - acc: 0.7265 - val_loss: 0.6571 - val_acc: 0.6121\n",
      "Epoch 4/5\n",
      "10238/10238 [==============================] - 2s 227us/step - loss: 0.5205 - acc: 0.7731 - val_loss: 0.6703 - val_acc: 0.6051\n",
      "Epoch 5/5\n",
      "10238/10238 [==============================] - 2s 231us/step - loss: 0.4829 - acc: 0.8024 - val_loss: 0.6621 - val_acc: 0.6098\n",
      "10238/10238 [==============================] - 1s 101us/step\n",
      "0.8700918148308672\n",
      "1267/1267 [==============================] - 0s 112us/step\n",
      "0.601420678815789\n"
     ]
    }
   ],
   "source": [
    "history = model.fit(X_train, Y_train_bi, batch_size=128, epochs=5, verbose=1,\n",
    "                   validation_data=(X_val, Y_val_bi))\n",
    "\n",
    "loss, acc= model.evaluate(X_train, Y_train_bi, verbose=1)\n",
    "print(acc)\n",
    "loss, acc = model.evaluate(X_test, Y_test_bi, verbose=1)\n",
    "print(acc)"
   ]
  },
  {
   "cell_type": "code",
   "execution_count": 25,
   "metadata": {},
   "outputs": [
    {
     "data": {
      "image/png": "[encoded data removed]",
      "text/plain": [
       "<Figure size 432x288 with 1 Axes>"
      ]
     },
     "metadata": {
      "needs_background": "light"
     },
     "output_type": "display_data"
    },
    {
     "data": {
      "image/png": "[encoded data removed]",
      "text/plain": [
       "<Figure size 432x288 with 1 Axes>"
      ]
     },
     "metadata": {
      "needs_background": "light"
     },
     "output_type": "display_data"
    }
   ],
   "source": [
    "plt.plot(history.history['acc'])\n",
    "plt.plot(history.history['val_acc'])\n",
    "\n",
    "plt.title('model accuracy')\n",
    "plt.ylabel('accuracy')\n",
    "plt.xlabel('epoch')\n",
    "plt.legend(['train','test'], loc='upper left')\n",
    "plt.show()\n",
    "\n",
    "plt.plot(history.history['loss'])\n",
    "plt.plot(history.history['val_loss'])\n",
    "\n",
    "plt.title('model loss')\n",
    "plt.ylabel('loss')\n",
    "plt.xlabel('epoch')\n",
    "plt.legend(['train','test'], loc='upper left')\n",
    "plt.show()"
   ]
  },
  {
   "cell_type": "code",
   "execution_count": 26,
   "metadata": {},
   "outputs": [
    {
     "name": "stdout",
     "output_type": "stream",
     "text": [
      "_________________________________________________________________\n",
      "Layer (type)                 Output Shape              Param #   \n",
      "=================================================================\n",
      "input_3 (InputLayer)         (None, 100)               0         \n",
      "_________________________________________________________________\n",
      "embedding_1 (Embedding)      (None, 100, 100)          1176200   \n",
      "_________________________________________________________________\n",
      "lstm_1 (LSTM)                (None, 128)               117248    \n",
      "_________________________________________________________________\n",
      "dense_3 (Dense)              (None, 1)                 129       \n",
      "=================================================================\n",
      "Total params: 1,293,577\n",
      "Trainable params: 117,377\n",
      "Non-trainable params: 1,176,200\n",
      "_________________________________________________________________\n",
      "None\n"
     ]
    }
   ],
   "source": [
    "seq_input = Input(shape=(maxlen_s, ), dtype='int32')\n",
    "x = embedding_layer_s(seq_input)\n",
    "x = LSTM(128)(x)\n",
    "x = Dense(1, activation='sigmoid')(x)\n",
    "model = Model(inputs=seq_input, outputs=x)\n",
    "\n",
    "model.compile(optimizer='adam', loss='binary_crossentropy', metrics=['acc'])\n",
    "\n",
    "print(model.summary())"
   ]
  },
  {
   "cell_type": "code",
   "execution_count": 27,
   "metadata": {},
   "outputs": [
    {
     "name": "stdout",
     "output_type": "stream",
     "text": [
      "Train on 10238 samples, validate on 1284 samples\n",
      "Epoch 1/5\n",
      "10238/10238 [==============================] - 19s 2ms/step - loss: 0.6866 - acc: 0.5581 - val_loss: 0.6928 - val_acc: 0.5202\n",
      "Epoch 2/5\n",
      "10238/10238 [==============================] - 16s 2ms/step - loss: 0.6855 - acc: 0.5618 - val_loss: 0.6962 - val_acc: 0.5202\n",
      "Epoch 3/5\n",
      "10238/10238 [==============================] - 16s 2ms/step - loss: 0.6855 - acc: 0.5619 - val_loss: 0.6937 - val_acc: 0.5202\n",
      "Epoch 4/5\n",
      "10238/10238 [==============================] - 16s 2ms/step - loss: 0.6858 - acc: 0.5619 - val_loss: 0.6943 - val_acc: 0.5202\n",
      "Epoch 5/5\n",
      "10238/10238 [==============================] - 17s 2ms/step - loss: 0.6855 - acc: 0.5619 - val_loss: 0.6970 - val_acc: 0.5202\n",
      "1284/1284 [==============================] - 1s 913us/step\n",
      "0.5202492211838006\n",
      "1267/1267 [==============================] - 1s 902us/step\n",
      "0.5635359115316441\n"
     ]
    }
   ],
   "source": [
    "history = model.fit(X_train, Y_train_bi, batch_size=128, epochs=5, verbose=1,\n",
    "             validation_data=(X_val, Y_val_bi))\n",
    "\n",
    "loss, acc = model.evaluate(X_val, Y_val_bi, verbose=1)\n",
    "print(acc)\n",
    "\n",
    "loss, acc = model.evaluate(X_test, Y_test_bi, verbose=1)\n",
    "print(acc)"
   ]
  },
  {
   "cell_type": "code",
   "execution_count": 28,
   "metadata": {},
   "outputs": [
    {
     "data": {
      "image/png": "[encoded data removed]",
      "text/plain": [
       "<Figure size 432x288 with 1 Axes>"
      ]
     },
     "metadata": {
      "needs_background": "light"
     },
     "output_type": "display_data"
    },
    {
     "data": {
      "image/png": "[encoded data removed]",
      "text/plain": [
       "<Figure size 432x288 with 1 Axes>"
      ]
     },
     "metadata": {
      "needs_background": "light"
     },
     "output_type": "display_data"
    }
   ],
   "source": [
    "plt.plot(history.history['acc'])\n",
    "plt.plot(history.history['val_acc'])\n",
    "\n",
    "plt.title('model accuracy')\n",
    "plt.ylabel('accuracy')\n",
    "plt.xlabel('epoch')\n",
    "plt.legend(['train','test'], loc='upper left')\n",
    "plt.show()\n",
    "\n",
    "plt.plot(history.history['loss'])\n",
    "plt.plot(history.history['val_loss'])\n",
    "\n",
    "plt.title('model loss')\n",
    "plt.ylabel('loss')\n",
    "plt.xlabel('epoch')\n",
    "plt.legend(['train','test'], loc='upper left')\n",
    "plt.show()"
   ]
  },
  {
   "cell_type": "code",
   "execution_count": 29,
   "metadata": {},
   "outputs": [
    {
     "name": "stdout",
     "output_type": "stream",
     "text": [
      "__________________________________________________________________________________________________\n",
      "Layer (type)                    Output Shape         Param #     Connected to                     \n",
      "==================================================================================================\n",
      "input_4 (InputLayer)            (None, 100)          0                                            \n",
      "__________________________________________________________________________________________________\n",
      "input_5 (InputLayer)            (None, 150)          0                                            \n",
      "__________________________________________________________________________________________________\n",
      "embedding_1 (Embedding)         (None, 100, 100)     1176200     input_4[0][0]                    \n",
      "__________________________________________________________________________________________________\n",
      "embedding_2 (Embedding)         (None, 150, 100)     2291500     input_5[0][0]                    \n",
      "__________________________________________________________________________________________________\n",
      "bidirectional_1 (Bidirectional) (None, 100, 256)     175872      embedding_1[3][0]                \n",
      "__________________________________________________________________________________________________\n",
      "bidirectional_3 (Bidirectional) (None, 150, 256)     175872      embedding_2[0][0]                \n",
      "__________________________________________________________________________________________________\n",
      "bidirectional_2 (Bidirectional) (None, 128)          123264      bidirectional_1[0][0]            \n",
      "__________________________________________________________________________________________________\n",
      "bidirectional_4 (Bidirectional) (None, 128)          123264      bidirectional_3[0][0]            \n",
      "__________________________________________________________________________________________________\n",
      "concatenate_1 (Concatenate)     (None, 256)          0           bidirectional_2[0][0]            \n",
      "                                                                 bidirectional_4[0][0]            \n",
      "__________________________________________________________________________________________________\n",
      "dense_4 (Dense)                 (None, 1)            257         concatenate_1[0][0]              \n",
      "==================================================================================================\n",
      "Total params: 4,066,229\n",
      "Trainable params: 598,529\n",
      "Non-trainable params: 3,467,700\n",
      "__________________________________________________________________________________________________\n",
      "None\n"
     ]
    }
   ],
   "source": [
    "seq_input1 = Input(shape=(maxlen_s, ), dtype='int32')\n",
    "seq_input2 = Input(shape=(maxlen_j, ), dtype='int32')\n",
    "\n",
    "emb_s = embedding_layer_s(seq_input1)\n",
    "emb_j = embedding_layer_j(seq_input2)\n",
    "\n",
    "gru11 = Bidirectional(GRU(128, return_sequences=True), merge_mode='concat')(emb_s)\n",
    "gru12 = Bidirectional(GRU(64, return_sequences=False), merge_mode='concat')(gru11)\n",
    "\n",
    "gru21 = Bidirectional(GRU(128, return_sequences=True), merge_mode='concat')(emb_j)\n",
    "gru22 = Bidirectional(GRU(64, return_sequences=False), merge_mode='concat')(gru21)\n",
    "\n",
    "merge1 = Concatenate(axis=-1)([gru12, gru22])\n",
    "\n",
    "dense1 = Dense(1, activation='sigmoid')(merge1)\n",
    "\n",
    "model = Model(inputs=[seq_input1, seq_input2], outputs=dense1)\n",
    "\n",
    "model.compile(optimizer='adam', loss='binary_crossentropy', metrics=['acc'])\n",
    "\n",
    "print(model.summary())"
   ]
  },
  {
   "cell_type": "code",
   "execution_count": 30,
   "metadata": {},
   "outputs": [],
   "source": [
    "plot_model(model, to_file='BiLSTM.png')"
   ]
  },
  {
   "cell_type": "code",
   "execution_count": 31,
   "metadata": {},
   "outputs": [],
   "source": [
    "# history = model.fit([X_train, X_trainj], Y_train_bi, batch_size=128, epochs=5, verbose=1,\n",
    "#              validation_data=(X_val, Y_val_bi))\n",
    "\n",
    "# loss, acc = model.evaluate([X_val, X_valj], Y_val_bi, verbose=1)\n",
    "# print(acc)\n",
    "\n",
    "# loss, acc = model.evaluate([X_test, X_testj], Y_test_bi, verbose=1)\n",
    "# print(acc)"
   ]
  },
  {
   "cell_type": "code",
   "execution_count": 32,
   "metadata": {},
   "outputs": [],
   "source": [
    "# plt.plot(history.history['acc'])\n",
    "# plt.plot(history.history['val_acc'])\n",
    "\n",
    "# plt.title('model accuracy')\n",
    "# plt.ylabel('accuracy')\n",
    "# plt.xlabel('epoch')\n",
    "# plt.legend(['train','test'], loc='upper left')\n",
    "# plt.show()\n",
    "\n",
    "# plt.plot(history.history['loss'])\n",
    "# plt.plot(history.history['val_loss'])\n",
    "\n",
    "# plt.title('model loss')\n",
    "# plt.ylabel('loss')\n",
    "# plt.xlabel('epoch')\n",
    "# plt.legend(['train','test'], loc='upper left')\n",
    "# plt.show()"
   ]
  },
  {
   "cell_type": "code",
   "execution_count": 33,
   "metadata": {},
   "outputs": [
    {
     "name": "stdout",
     "output_type": "stream",
     "text": [
      "_________________________________________________________________\n",
      "Layer (type)                 Output Shape              Param #   \n",
      "=================================================================\n",
      "input_6 (InputLayer)         (None, 100)               0         \n",
      "_________________________________________________________________\n",
      "embedding_1 (Embedding)      (None, 100, 100)          1176200   \n",
      "_________________________________________________________________\n",
      "flatten_2 (Flatten)          (None, 10000)             0         \n",
      "_________________________________________________________________\n",
      "dense_5 (Dense)              (None, 6)                 60006     \n",
      "=================================================================\n",
      "Total params: 1,236,206\n",
      "Trainable params: 60,006\n",
      "Non-trainable params: 1,176,200\n",
      "_________________________________________________________________\n",
      "None\n"
     ]
    }
   ],
   "source": [
    "# Six classes\n",
    "\n",
    "seq_input = Input(shape=(maxlen_s, ), dtype='int32')\n",
    "x = embedding_layer_s(seq_input)\n",
    "x = Flatten()(x)\n",
    "x = Dense(6, activation='sigmoid')(x)\n",
    "\n",
    "model = Model(inputs=seq_input, outputs=x)\n",
    "model.compile(optimizer='adam', loss='binary_crossentropy', metrics=['acc'])\n",
    "\n",
    "print(model.summary())"
   ]
  },
  {
   "cell_type": "code",
   "execution_count": 34,
   "metadata": {},
   "outputs": [
    {
     "name": "stdout",
     "output_type": "stream",
     "text": [
      "(10238, 6) (1284, 6) (1267, 6)\n"
     ]
    }
   ],
   "source": [
    "Y_train_six = np.asarray(Y_train_six)\n",
    "Y_val_six = np.asarray(Y_val_six)\n",
    "Y_test_six = np.asarray(Y_test_six)\n",
    "\n",
    "Y_train_six = np_utils.to_categorical(Y_train_six, 6)\n",
    "Y_val_six = np_utils.to_categorical(Y_val_six, 6)\n",
    "Y_test_six = np_utils.to_categorical(Y_test_six, 6)\n",
    "print(Y_train_six.shape, Y_val_six.shape, Y_test_six.shape)"
   ]
  },
  {
   "cell_type": "code",
   "execution_count": 35,
   "metadata": {},
   "outputs": [
    {
     "name": "stdout",
     "output_type": "stream",
     "text": [
      "Train on 10238 samples, validate on 1284 samples\n",
      "Epoch 1/5\n",
      "10238/10238 [==============================] - 1s 127us/step - loss: 0.4624 - acc: 0.8280 - val_loss: 0.4443 - val_acc: 0.8328\n",
      "Epoch 2/5\n",
      "10238/10238 [==============================] - 0s 36us/step - loss: 0.4281 - acc: 0.8339 - val_loss: 0.4456 - val_acc: 0.8327\n",
      "Epoch 3/5\n",
      "10238/10238 [==============================] - 0s 35us/step - loss: 0.4138 - acc: 0.8353 - val_loss: 0.4440 - val_acc: 0.8314\n",
      "Epoch 4/5\n",
      "10238/10238 [==============================] - 0s 38us/step - loss: 0.4034 - acc: 0.8368 - val_loss: 0.4471 - val_acc: 0.8298\n",
      "Epoch 5/5\n",
      "10238/10238 [==============================] - 0s 34us/step - loss: 0.3951 - acc: 0.8389 - val_loss: 0.4488 - val_acc: 0.8301\n",
      "1284/1284 [==============================] - 0s 23us/step\n",
      "0.8300882993828842\n",
      "1267/1267 [==============================] - 0s 35us/step\n",
      "0.8300447499742636\n"
     ]
    }
   ],
   "source": [
    "history = model.fit(X_train, Y_train_six, batch_size=128, epochs=5, verbose=1,\n",
    "                   validation_data=(X_val, Y_val_six))\n",
    "\n",
    "loss,acc = model.evaluate(X_val, Y_val_six, verbose=1)\n",
    "print(acc)\n",
    "loss,acc = model.evaluate(X_test, Y_test_six, verbose=1)\n",
    "print(acc)"
   ]
  },
  {
   "cell_type": "code",
   "execution_count": 36,
   "metadata": {},
   "outputs": [
    {
     "data": {
      "image/png": "[encoded data removed]",
      "text/plain": [
       "<Figure size 432x288 with 1 Axes>"
      ]
     },
     "metadata": {
      "needs_background": "light"
     },
     "output_type": "display_data"
    },
    {
     "data": {
      "image/png": "[encoded data removed]",
      "text/plain": [
       "<Figure size 432x288 with 1 Axes>"
      ]
     },
     "metadata": {
      "needs_background": "light"
     },
     "output_type": "display_data"
    }
   ],
   "source": [
    "plt.plot(history.history['acc'])\n",
    "plt.plot(history.history['val_acc'])\n",
    "\n",
    "plt.title('model accuracy')\n",
    "plt.ylabel('accuracy')\n",
    "plt.xlabel('epoch')\n",
    "plt.legend(['train','test'], loc='upper left')\n",
    "plt.show()\n",
    "\n",
    "plt.plot(history.history['loss'])\n",
    "plt.plot(history.history['val_loss'])\n",
    "\n",
    "plt.title('model loss')\n",
    "plt.ylabel('loss')\n",
    "plt.xlabel('epoch')\n",
    "plt.legend(['train','test'], loc='upper left')\n",
    "plt.show()"
   ]
  },
  {
   "cell_type": "code",
   "execution_count": 39,
   "metadata": {},
   "outputs": [
    {
     "name": "stdout",
     "output_type": "stream",
     "text": [
      "__________________________________________________________________________________________________\n",
      "Layer (type)                    Output Shape         Param #     Connected to                     \n",
      "==================================================================================================\n",
      "input_11 (InputLayer)           (None, 100)          0                                            \n",
      "__________________________________________________________________________________________________\n",
      "input_12 (InputLayer)           (None, 150)          0                                            \n",
      "__________________________________________________________________________________________________\n",
      "embedding_1 (Embedding)         (None, 100, 100)     1176200     input_11[0][0]                   \n",
      "__________________________________________________________________________________________________\n",
      "embedding_2 (Embedding)         (None, 150, 100)     2291500     input_12[0][0]                   \n",
      "__________________________________________________________________________________________________\n",
      "conv1d_6 (Conv1D)               (None, 96, 128)      64128       embedding_1[7][0]                \n",
      "__________________________________________________________________________________________________\n",
      "conv1d_7 (Conv1D)               (None, 146, 128)     64128       embedding_2[3][0]                \n",
      "__________________________________________________________________________________________________\n",
      "global_max_pooling1d_4 (GlobalM (None, 128)          0           conv1d_6[0][0]                   \n",
      "__________________________________________________________________________________________________\n",
      "global_max_pooling1d_5 (GlobalM (None, 128)          0           conv1d_7[0][0]                   \n",
      "__________________________________________________________________________________________________\n",
      "concatenate_4 (Concatenate)     (None, 256)          0           global_max_pooling1d_4[0][0]     \n",
      "                                                                 global_max_pooling1d_5[0][0]     \n",
      "__________________________________________________________________________________________________\n",
      "dense_7 (Dense)                 (None, 1)            257         concatenate_4[0][0]              \n",
      "==================================================================================================\n",
      "Total params: 3,596,213\n",
      "Trainable params: 128,513\n",
      "Non-trainable params: 3,467,700\n",
      "__________________________________________________________________________________________________\n",
      "None\n"
     ]
    }
   ],
   "source": [
    "seq_input1 = Input(shape=(maxlen_s, ), dtype='int32')\n",
    "seq_input2 = Input(shape=(maxlen_j, ), dtype='int32')\n",
    "\n",
    "emb_s = embedding_layer_s(seq_input1)\n",
    "emb_j = embedding_layer_j(seq_input2)\n",
    "\n",
    "c1 = Conv1D(128, 5, activation='relu')(emb_s)\n",
    "c2 = Conv1D(128, 5, activation='relu')(emb_j)\n",
    "\n",
    "\n",
    "g1 = GlobalMaxPooling1D()(c1)\n",
    "g2 = GlobalMaxPooling1D()(c2)\n",
    "\n",
    "x = Concatenate(axis=-1)([g1, g2])\n",
    "x = Dense(1, activation='sigmoid')(x)\n",
    "\n",
    "model = Model(inputs=[seq_input1, seq_input2], outputs=x)\n",
    "model.compile(optimizer='adam', loss='binary_crossentropy', metrics=['acc'])\n",
    "print(model.summary())"
   ]
  },
  {
   "cell_type": "code",
   "execution_count": 40,
   "metadata": {},
   "outputs": [
    {
     "name": "stdout",
     "output_type": "stream",
     "text": [
      "Train on 10238 samples, validate on 1284 samples\n",
      "Epoch 1/5\n",
      "10238/10238 [==============================] - 7s 650us/step - loss: 0.6838 - acc: 0.5717 - val_loss: 0.6685 - val_acc: 0.5849\n",
      "Epoch 2/5\n",
      "10238/10238 [==============================] - 6s 545us/step - loss: 0.5989 - acc: 0.6850 - val_loss: 0.6741 - val_acc: 0.5864\n",
      "Epoch 3/5\n",
      "10238/10238 [==============================] - 6s 543us/step - loss: 0.5379 - acc: 0.7641 - val_loss: 0.7020 - val_acc: 0.5771\n",
      "Epoch 4/5\n",
      "10238/10238 [==============================] - 6s 543us/step - loss: 0.4810 - acc: 0.8166 - val_loss: 0.6509 - val_acc: 0.6238\n",
      "Epoch 5/5\n",
      "10238/10238 [==============================] - 6s 547us/step - loss: 0.4226 - acc: 0.8653 - val_loss: 0.6899 - val_acc: 0.5989\n",
      "10238/10238 [==============================] - 2s 205us/step\n",
      "0.8777104903417864\n",
      "1267/1267 [==============================] - 0s 214us/step\n",
      "0.6037884767636974\n"
     ]
    }
   ],
   "source": [
    "history = model.fit([X_train, X_trainj], Y_train_bi, batch_size=128, epochs=5, verbose=1,\n",
    "                   validation_data=([X_val, X_valj], Y_val_bi))\n",
    "\n",
    "loss, acc= model.evaluate([X_train, X_trainj], Y_train_bi, verbose=1)\n",
    "print(acc)\n",
    "loss, acc = model.evaluate([X_test, X_testj], Y_test_bi, verbose=1)\n",
    "print(acc)"
   ]
  },
  {
   "cell_type": "code",
   "execution_count": 41,
   "metadata": {},
   "outputs": [
    {
     "data": {
      "image/png": "[encoded data removed]",
      "text/plain": [
       "<Figure size 432x288 with 1 Axes>"
      ]
     },
     "metadata": {
      "needs_background": "light"
     },
     "output_type": "display_data"
    },
    {
     "data": {
      "image/png": "[encoded data removed]",
      "text/plain": [
       "<Figure size 432x288 with 1 Axes>"
      ]
     },
     "metadata": {
      "needs_background": "light"
     },
     "output_type": "display_data"
    }
   ],
   "source": [
    "plt.plot(history.history['acc'])\n",
    "plt.plot(history.history['val_acc'])\n",
    "\n",
    "plt.title('model accuracy')\n",
    "plt.ylabel('accuracy')\n",
    "plt.xlabel('epoch')\n",
    "plt.legend(['train','test'], loc='upper left')\n",
    "plt.show()\n",
    "\n",
    "plt.plot(history.history['loss'])\n",
    "plt.plot(history.history['val_loss'])\n",
    "\n",
    "plt.title('model loss')\n",
    "plt.ylabel('loss')\n",
    "plt.xlabel('epoch')\n",
    "plt.legend(['train','test'], loc='upper left')\n",
    "plt.show()"
   ]
  },
  {
   "cell_type": "code",
   "execution_count": null,
   "metadata": {},
   "outputs": [],
   "source": []
  }
 ],
 "metadata": {
  "kernelspec": {
   "display_name": "Python 3",
   "language": "python",
   "name": "python3"
  },
  "language_info": {
   "codemirror_mode": {
    "name": "ipython",
    "version": 3
   },
   "file_extension": ".py",
   "mimetype": "text/x-python",
   "name": "python",
   "nbconvert_exporter": "python",
   "pygments_lexer": "ipython3",
   "version": "3.7.3"
  }
 },
 "nbformat": 4,
 "nbformat_minor": 2
}
